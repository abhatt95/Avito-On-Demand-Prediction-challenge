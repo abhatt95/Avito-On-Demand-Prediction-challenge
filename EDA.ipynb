{
 "cells": [
  {
   "cell_type": "code",
   "execution_count": 2,
   "metadata": {},
   "outputs": [],
   "source": [
    "import pandas as pd\n",
    "import numpy as np\n",
    "import matplotlib.pyplot as plt\n",
    "import seaborn as sns"
   ]
  },
  {
   "cell_type": "code",
   "execution_count": 3,
   "metadata": {},
   "outputs": [],
   "source": [
    "train= pd.read_csv('log/train.csv', parse_dates = [\"activation_date\"])\n",
    "train_plt=train\n"
   ]
  },
  {
   "cell_type": "code",
   "execution_count": 4,
   "metadata": {},
   "outputs": [],
   "source": [
    "test = pd.read_csv('log/test.csv', parse_dates = [\"activation_date\"])\n"
   ]
  },
  {
   "cell_type": "markdown",
   "metadata": {},
   "source": [
    "# EDA"
   ]
  },
  {
   "cell_type": "code",
   "execution_count": 5,
   "metadata": {},
   "outputs": [
    {
     "data": {
      "text/html": [
       "<div>\n",
       "<style scoped>\n",
       "    .dataframe tbody tr th:only-of-type {\n",
       "        vertical-align: middle;\n",
       "    }\n",
       "\n",
       "    .dataframe tbody tr th {\n",
       "        vertical-align: top;\n",
       "    }\n",
       "\n",
       "    .dataframe thead th {\n",
       "        text-align: right;\n",
       "    }\n",
       "</style>\n",
       "<table border=\"1\" class=\"dataframe\">\n",
       "  <thead>\n",
       "    <tr style=\"text-align: right;\">\n",
       "      <th></th>\n",
       "      <th>item_id</th>\n",
       "      <th>user_id</th>\n",
       "      <th>region</th>\n",
       "      <th>city</th>\n",
       "      <th>parent_category_name</th>\n",
       "      <th>category_name</th>\n",
       "      <th>param_1</th>\n",
       "      <th>param_2</th>\n",
       "      <th>param_3</th>\n",
       "      <th>title</th>\n",
       "      <th>description</th>\n",
       "      <th>price</th>\n",
       "      <th>item_seq_number</th>\n",
       "      <th>activation_date</th>\n",
       "      <th>user_type</th>\n",
       "      <th>image</th>\n",
       "      <th>image_top_1</th>\n",
       "      <th>deal_probability</th>\n",
       "    </tr>\n",
       "  </thead>\n",
       "  <tbody>\n",
       "    <tr>\n",
       "      <th>0</th>\n",
       "      <td>b912c3c6a6ad</td>\n",
       "      <td>e00f8ff2eaf9</td>\n",
       "      <td>Свердловская область</td>\n",
       "      <td>Екатеринбург</td>\n",
       "      <td>Личные вещи</td>\n",
       "      <td>Товары для детей и игрушки</td>\n",
       "      <td>Постельные принадлежности</td>\n",
       "      <td>NaN</td>\n",
       "      <td>NaN</td>\n",
       "      <td>Кокоби(кокон для сна)</td>\n",
       "      <td>Кокон для сна малыша,пользовались меньше месяц...</td>\n",
       "      <td>400.0</td>\n",
       "      <td>2</td>\n",
       "      <td>2017-03-28</td>\n",
       "      <td>Private</td>\n",
       "      <td>d10c7e016e03247a3bf2d13348fe959fe6f436c1caf64c...</td>\n",
       "      <td>1008.0</td>\n",
       "      <td>0.12789</td>\n",
       "    </tr>\n",
       "    <tr>\n",
       "      <th>1</th>\n",
       "      <td>2dac0150717d</td>\n",
       "      <td>39aeb48f0017</td>\n",
       "      <td>Самарская область</td>\n",
       "      <td>Самара</td>\n",
       "      <td>Для дома и дачи</td>\n",
       "      <td>Мебель и интерьер</td>\n",
       "      <td>Другое</td>\n",
       "      <td>NaN</td>\n",
       "      <td>NaN</td>\n",
       "      <td>Стойка для Одежды</td>\n",
       "      <td>Стойка для одежды, под вешалки. С бутика.</td>\n",
       "      <td>3000.0</td>\n",
       "      <td>19</td>\n",
       "      <td>2017-03-26</td>\n",
       "      <td>Private</td>\n",
       "      <td>79c9392cc51a9c81c6eb91eceb8e552171db39d7142700...</td>\n",
       "      <td>692.0</td>\n",
       "      <td>0.00000</td>\n",
       "    </tr>\n",
       "    <tr>\n",
       "      <th>2</th>\n",
       "      <td>ba83aefab5dc</td>\n",
       "      <td>91e2f88dd6e3</td>\n",
       "      <td>Ростовская область</td>\n",
       "      <td>Ростов-на-Дону</td>\n",
       "      <td>Бытовая электроника</td>\n",
       "      <td>Аудио и видео</td>\n",
       "      <td>Видео, DVD и Blu-ray плееры</td>\n",
       "      <td>NaN</td>\n",
       "      <td>NaN</td>\n",
       "      <td>Philips bluray</td>\n",
       "      <td>В хорошем состоянии, домашний кинотеатр с blu ...</td>\n",
       "      <td>4000.0</td>\n",
       "      <td>9</td>\n",
       "      <td>2017-03-20</td>\n",
       "      <td>Private</td>\n",
       "      <td>b7f250ee3f39e1fedd77c141f273703f4a9be59db4b48a...</td>\n",
       "      <td>3032.0</td>\n",
       "      <td>0.43177</td>\n",
       "    </tr>\n",
       "    <tr>\n",
       "      <th>3</th>\n",
       "      <td>02996f1dd2ea</td>\n",
       "      <td>bf5cccea572d</td>\n",
       "      <td>Татарстан</td>\n",
       "      <td>Набережные Челны</td>\n",
       "      <td>Личные вещи</td>\n",
       "      <td>Товары для детей и игрушки</td>\n",
       "      <td>Автомобильные кресла</td>\n",
       "      <td>NaN</td>\n",
       "      <td>NaN</td>\n",
       "      <td>Автокресло</td>\n",
       "      <td>Продам кресло от0-25кг</td>\n",
       "      <td>2200.0</td>\n",
       "      <td>286</td>\n",
       "      <td>2017-03-25</td>\n",
       "      <td>Company</td>\n",
       "      <td>e6ef97e0725637ea84e3d203e82dadb43ed3cc0a1c8413...</td>\n",
       "      <td>796.0</td>\n",
       "      <td>0.80323</td>\n",
       "    </tr>\n",
       "    <tr>\n",
       "      <th>4</th>\n",
       "      <td>7c90be56d2ab</td>\n",
       "      <td>ef50846afc0b</td>\n",
       "      <td>Волгоградская область</td>\n",
       "      <td>Волгоград</td>\n",
       "      <td>Транспорт</td>\n",
       "      <td>Автомобили</td>\n",
       "      <td>С пробегом</td>\n",
       "      <td>ВАЗ (LADA)</td>\n",
       "      <td>2110</td>\n",
       "      <td>ВАЗ 2110, 2003</td>\n",
       "      <td>Все вопросы по телефону.</td>\n",
       "      <td>40000.0</td>\n",
       "      <td>3</td>\n",
       "      <td>2017-03-16</td>\n",
       "      <td>Private</td>\n",
       "      <td>54a687a3a0fc1d68aed99bdaaf551c5c70b761b16fd0a2...</td>\n",
       "      <td>2264.0</td>\n",
       "      <td>0.20797</td>\n",
       "    </tr>\n",
       "  </tbody>\n",
       "</table>\n",
       "</div>"
      ],
      "text/plain": [
       "        item_id       user_id                 region              city  \\\n",
       "0  b912c3c6a6ad  e00f8ff2eaf9   Свердловская область      Екатеринбург   \n",
       "1  2dac0150717d  39aeb48f0017      Самарская область            Самара   \n",
       "2  ba83aefab5dc  91e2f88dd6e3     Ростовская область    Ростов-на-Дону   \n",
       "3  02996f1dd2ea  bf5cccea572d              Татарстан  Набережные Челны   \n",
       "4  7c90be56d2ab  ef50846afc0b  Волгоградская область         Волгоград   \n",
       "\n",
       "  parent_category_name               category_name  \\\n",
       "0          Личные вещи  Товары для детей и игрушки   \n",
       "1      Для дома и дачи           Мебель и интерьер   \n",
       "2  Бытовая электроника               Аудио и видео   \n",
       "3          Личные вещи  Товары для детей и игрушки   \n",
       "4            Транспорт                  Автомобили   \n",
       "\n",
       "                       param_1     param_2 param_3                  title  \\\n",
       "0    Постельные принадлежности         NaN     NaN  Кокоби(кокон для сна)   \n",
       "1                       Другое         NaN     NaN      Стойка для Одежды   \n",
       "2  Видео, DVD и Blu-ray плееры         NaN     NaN         Philips bluray   \n",
       "3         Автомобильные кресла         NaN     NaN             Автокресло   \n",
       "4                   С пробегом  ВАЗ (LADA)    2110         ВАЗ 2110, 2003   \n",
       "\n",
       "                                         description    price  \\\n",
       "0  Кокон для сна малыша,пользовались меньше месяц...    400.0   \n",
       "1          Стойка для одежды, под вешалки. С бутика.   3000.0   \n",
       "2  В хорошем состоянии, домашний кинотеатр с blu ...   4000.0   \n",
       "3                             Продам кресло от0-25кг   2200.0   \n",
       "4                           Все вопросы по телефону.  40000.0   \n",
       "\n",
       "   item_seq_number activation_date user_type  \\\n",
       "0                2      2017-03-28   Private   \n",
       "1               19      2017-03-26   Private   \n",
       "2                9      2017-03-20   Private   \n",
       "3              286      2017-03-25   Company   \n",
       "4                3      2017-03-16   Private   \n",
       "\n",
       "                                               image  image_top_1  \\\n",
       "0  d10c7e016e03247a3bf2d13348fe959fe6f436c1caf64c...       1008.0   \n",
       "1  79c9392cc51a9c81c6eb91eceb8e552171db39d7142700...        692.0   \n",
       "2  b7f250ee3f39e1fedd77c141f273703f4a9be59db4b48a...       3032.0   \n",
       "3  e6ef97e0725637ea84e3d203e82dadb43ed3cc0a1c8413...        796.0   \n",
       "4  54a687a3a0fc1d68aed99bdaaf551c5c70b761b16fd0a2...       2264.0   \n",
       "\n",
       "   deal_probability  \n",
       "0           0.12789  \n",
       "1           0.00000  \n",
       "2           0.43177  \n",
       "3           0.80323  \n",
       "4           0.20797  "
      ]
     },
     "execution_count": 5,
     "metadata": {},
     "output_type": "execute_result"
    }
   ],
   "source": [
    "train.head()"
   ]
  },
  {
   "cell_type": "code",
   "execution_count": 7,
   "metadata": {},
   "outputs": [
    {
     "name": "stdout",
     "output_type": "stream",
     "text": [
      "The train data has 1503424 rows and 18 columns\n",
      "----------------------------\n",
      "The test data has 508438 rows and 17 columns\n"
     ]
    }
   ],
   "source": [
    "print ('The train data has {} rows and {} columns'.format(train.shape[0],train.shape[1]))\n",
    "print ('----------------------------')\n",
    "print ('The test data has {} rows and {} columns'.format(test.shape[0],test.shape[1]))"
   ]
  },
  {
   "cell_type": "code",
   "execution_count": 8,
   "metadata": {},
   "outputs": [
    {
     "data": {
      "text/plain": [
       "Index(['item_id', 'user_id', 'region', 'city', 'parent_category_name',\n",
       "       'category_name', 'param_1', 'param_2', 'param_3', 'title',\n",
       "       'description', 'price', 'item_seq_number', 'activation_date',\n",
       "       'user_type', 'image', 'image_top_1', 'deal_probability'],\n",
       "      dtype='object')"
      ]
     },
     "execution_count": 8,
     "metadata": {},
     "output_type": "execute_result"
    }
   ],
   "source": [
    "train.columns"
   ]
  },
  {
   "cell_type": "code",
   "execution_count": 9,
   "metadata": {},
   "outputs": [
    {
     "data": {
      "text/plain": [
       "item_id                         object\n",
       "user_id                         object\n",
       "region                          object\n",
       "city                            object\n",
       "parent_category_name            object\n",
       "category_name                   object\n",
       "param_1                         object\n",
       "param_2                         object\n",
       "param_3                         object\n",
       "title                           object\n",
       "description                     object\n",
       "price                          float64\n",
       "item_seq_number                  int64\n",
       "activation_date         datetime64[ns]\n",
       "user_type                       object\n",
       "image                           object\n",
       "image_top_1                    float64\n",
       "deal_probability               float64\n",
       "dtype: object"
      ]
     },
     "execution_count": 9,
     "metadata": {},
     "output_type": "execute_result"
    }
   ],
   "source": [
    "#check feature types\n",
    "train.dtypes\n"
   ]
  },
  {
   "cell_type": "code",
   "execution_count": 26,
   "metadata": {},
   "outputs": [
    {
     "name": "stdout",
     "output_type": "stream",
     "text": [
      "[<built-in method index of str object at 0x000001F034395ED8>, 'item_seq_number', 'activation_date', 'image_top_1', 'deal_probability']\n"
     ]
    }
   ],
   "source": [
    "#num_f=['price'.index, 'item_seq_number', 'activation_date', 'image_top_1', 'deal_probability']\n",
    "\n",
    "num_f1=[[train.dtypes!= 'object'].index]\n",
    "print (num_f)"
   ]
  },
  {
   "cell_type": "code",
   "execution_count": 11,
   "metadata": {},
   "outputs": [
    {
     "data": {
      "text/plain": [
       "param_3                 862565\n",
       "param_2                 654542\n",
       "description             116276\n",
       "image                   112588\n",
       "image_top_1             112588\n",
       "price                    85362\n",
       "param_1                  61576\n",
       "category_name                0\n",
       "user_id                      0\n",
       "region                       0\n",
       "city                         0\n",
       "parent_category_name         0\n",
       "deal_probability             0\n",
       "title                        0\n",
       "item_seq_number              0\n",
       "activation_date              0\n",
       "user_type                    0\n",
       "item_id                      0\n",
       "dtype: int64"
      ]
     },
     "execution_count": 11,
     "metadata": {},
     "output_type": "execute_result"
    }
   ],
   "source": [
    "#check missing values\n",
    "train.isnull().sum().sort_values(ascending=False)"
   ]
  },
  {
   "cell_type": "code",
   "execution_count": 15,
   "metadata": {},
   "outputs": [
    {
     "data": {
      "text/html": [
       "<div>\n",
       "<style scoped>\n",
       "    .dataframe tbody tr th:only-of-type {\n",
       "        vertical-align: middle;\n",
       "    }\n",
       "\n",
       "    .dataframe tbody tr th {\n",
       "        vertical-align: top;\n",
       "    }\n",
       "\n",
       "    .dataframe thead th {\n",
       "        text-align: right;\n",
       "    }\n",
       "</style>\n",
       "<table border=\"1\" class=\"dataframe\">\n",
       "  <thead>\n",
       "    <tr style=\"text-align: right;\">\n",
       "      <th></th>\n",
       "      <th>Total</th>\n",
       "      <th>Percent</th>\n",
       "    </tr>\n",
       "  </thead>\n",
       "  <tbody>\n",
       "    <tr>\n",
       "      <th>param_3</th>\n",
       "      <td>862565</td>\n",
       "      <td>0.573734</td>\n",
       "    </tr>\n",
       "    <tr>\n",
       "      <th>param_2</th>\n",
       "      <td>654542</td>\n",
       "      <td>0.435368</td>\n",
       "    </tr>\n",
       "    <tr>\n",
       "      <th>description</th>\n",
       "      <td>116276</td>\n",
       "      <td>0.077341</td>\n",
       "    </tr>\n",
       "    <tr>\n",
       "      <th>image</th>\n",
       "      <td>112588</td>\n",
       "      <td>0.074888</td>\n",
       "    </tr>\n",
       "    <tr>\n",
       "      <th>image_top_1</th>\n",
       "      <td>112588</td>\n",
       "      <td>0.074888</td>\n",
       "    </tr>\n",
       "    <tr>\n",
       "      <th>price</th>\n",
       "      <td>85362</td>\n",
       "      <td>0.056778</td>\n",
       "    </tr>\n",
       "    <tr>\n",
       "      <th>param_1</th>\n",
       "      <td>61576</td>\n",
       "      <td>0.040957</td>\n",
       "    </tr>\n",
       "    <tr>\n",
       "      <th>category_name</th>\n",
       "      <td>0</td>\n",
       "      <td>0.000000</td>\n",
       "    </tr>\n",
       "    <tr>\n",
       "      <th>user_id</th>\n",
       "      <td>0</td>\n",
       "      <td>0.000000</td>\n",
       "    </tr>\n",
       "    <tr>\n",
       "      <th>region</th>\n",
       "      <td>0</td>\n",
       "      <td>0.000000</td>\n",
       "    </tr>\n",
       "    <tr>\n",
       "      <th>city</th>\n",
       "      <td>0</td>\n",
       "      <td>0.000000</td>\n",
       "    </tr>\n",
       "    <tr>\n",
       "      <th>parent_category_name</th>\n",
       "      <td>0</td>\n",
       "      <td>0.000000</td>\n",
       "    </tr>\n",
       "    <tr>\n",
       "      <th>deal_probability</th>\n",
       "      <td>0</td>\n",
       "      <td>0.000000</td>\n",
       "    </tr>\n",
       "    <tr>\n",
       "      <th>title</th>\n",
       "      <td>0</td>\n",
       "      <td>0.000000</td>\n",
       "    </tr>\n",
       "    <tr>\n",
       "      <th>item_seq_number</th>\n",
       "      <td>0</td>\n",
       "      <td>0.000000</td>\n",
       "    </tr>\n",
       "    <tr>\n",
       "      <th>activation_date</th>\n",
       "      <td>0</td>\n",
       "      <td>0.000000</td>\n",
       "    </tr>\n",
       "    <tr>\n",
       "      <th>user_type</th>\n",
       "      <td>0</td>\n",
       "      <td>0.000000</td>\n",
       "    </tr>\n",
       "    <tr>\n",
       "      <th>item_id</th>\n",
       "      <td>0</td>\n",
       "      <td>0.000000</td>\n",
       "    </tr>\n",
       "  </tbody>\n",
       "</table>\n",
       "</div>"
      ],
      "text/plain": [
       "                       Total   Percent\n",
       "param_3               862565  0.573734\n",
       "param_2               654542  0.435368\n",
       "description           116276  0.077341\n",
       "image                 112588  0.074888\n",
       "image_top_1           112588  0.074888\n",
       "price                  85362  0.056778\n",
       "param_1                61576  0.040957\n",
       "category_name              0  0.000000\n",
       "user_id                    0  0.000000\n",
       "region                     0  0.000000\n",
       "city                       0  0.000000\n",
       "parent_category_name       0  0.000000\n",
       "deal_probability           0  0.000000\n",
       "title                      0  0.000000\n",
       "item_seq_number            0  0.000000\n",
       "activation_date            0  0.000000\n",
       "user_type                  0  0.000000\n",
       "item_id                    0  0.000000"
      ]
     },
     "execution_count": 15,
     "metadata": {},
     "output_type": "execute_result"
    }
   ],
   "source": [
    "# Let's check the percentage of missing values in our dataset\n",
    "\n",
    "total = train.isnull().sum().sort_values(ascending=False)\n",
    "percent = (train.isnull().sum()/train['deal_probability'].count()).sort_values(ascending=False)\n",
    "missing_data = pd.concat([total, percent], axis=1, keys=['Total', 'Percent'])\n",
    "missing_data.head(18)\n"
   ]
  },
  {
   "cell_type": "code",
   "execution_count": 16,
   "metadata": {},
   "outputs": [
    {
     "data": {
      "text/plain": [
       "count    1.503424e+06\n",
       "mean     1.391306e-01\n",
       "std      2.600785e-01\n",
       "min      0.000000e+00\n",
       "25%      0.000000e+00\n",
       "50%      0.000000e+00\n",
       "75%      1.508700e-01\n",
       "max      1.000000e+00\n",
       "Name: deal_probability, dtype: float64"
      ]
     },
     "execution_count": 16,
     "metadata": {},
     "output_type": "execute_result"
    }
   ],
   "source": [
    "#target variable info\n",
    "\n",
    "train['deal_probability'].describe()"
   ]
  },
  {
   "cell_type": "code",
   "execution_count": 31,
   "metadata": {},
   "outputs": [
    {
     "name": "stderr",
     "output_type": "stream",
     "text": [
      "C:\\Users\\Kathakali\\Anaconda3\\lib\\site-packages\\matplotlib\\axes\\_axes.py:6571: UserWarning: The 'normed' kwarg is deprecated, and has been replaced by the 'density' kwarg.\n",
      "  warnings.warn(\"The 'normed' kwarg is deprecated, and has been \"\n"
     ]
    },
    {
     "data": {
      "image/png": "[encoded data removed]",
      "text/plain": [
       "<Figure size 720x576 with 1 Axes>"
      ]
     },
     "metadata": {},
     "output_type": "display_data"
    }
   ],
   "source": [
    "plt.figure(figsize=(10,8))\n",
    "sns.distplot(train.deal_probability.dropna(), kde= False)\n",
    "plt.title(\"Deal Probability\")\n",
    "plt.show()"
   ]
  },
  {
   "cell_type": "code",
   "execution_count": 46,
   "metadata": {},
   "outputs": [
    {
     "data": {
      "image/png": "[encoded data removed]",
      "text/plain": [
       "<Figure size 720x720 with 1 Axes>"
      ]
     },
     "metadata": {},
     "output_type": "display_data"
    }
   ],
   "source": [
    "#plt.figure(figsize=(15,10))\n",
    "g = sns.pairplot(train, x_vars=['price'], y_vars=['deal_probability'])\n",
    "g.fig.set_size_inches(10,10)"
   ]
  },
  {
   "cell_type": "code",
   "execution_count": 32,
   "metadata": {},
   "outputs": [
    {
     "data": {
      "text/plain": [
       "<matplotlib.axes._subplots.AxesSubplot at 0x1f0837aebe0>"
      ]
     },
     "execution_count": 32,
     "metadata": {},
     "output_type": "execute_result"
    },
    {
     "data": {
      "image/png": "[encoded data removed]",
      "text/plain": [
       "<Figure size 432x288 with 2 Axes>"
      ]
     },
     "metadata": {},
     "output_type": "display_data"
    }
   ],
   "source": [
    "# Correlation heatmap\n",
    "#numerical features\n",
    "train_=train.drop(['user_id', 'item_id'], axis=1)\n",
    "n_f=train_.dtypes[train.dtypes!= 'object'].index\n",
    "\n",
    "\n",
    "corr=train_[n_f].corr()\n",
    "sns.heatmap(corr)\n"
   ]
  },
  {
   "cell_type": "code",
   "execution_count": 35,
   "metadata": {},
   "outputs": [
    {
     "name": "stdout",
     "output_type": "stream",
     "text": [
      "deal_probability    1.000000\n",
      "image_top_1         0.189979\n",
      "price              -0.001097\n",
      "item_seq_number    -0.035744\n",
      "Name: deal_probability, dtype: float64 \n",
      "\n"
     ]
    }
   ],
   "source": [
    "print (corr['deal_probability'].sort_values(ascending=False), '\\n') \n"
   ]
  },
  {
   "cell_type": "code",
   "execution_count": 37,
   "metadata": {},
   "outputs": [
    {
     "data": {
      "image/png": "[encoded data removed]",
      "text/plain": [
       "<Figure size 432x288 with 2 Axes>"
      ]
     },
     "metadata": {},
     "output_type": "display_data"
    }
   ],
   "source": [
    "#target correlation matrix\n",
    "\n",
    "k = 4 #number of variables for heatmap\n",
    "cols = corr.nlargest(k, 'deal_probability')['deal_probability'].index\n",
    "cm = np.corrcoef(train_[cols].values.T)\n",
    "sns.set(font_scale=1.25)\n",
    "hm = sns.heatmap(cm, cbar=True, annot=True, square=True, fmt='.2f', annot_kws={'size': 10}, yticklabels=cols.values, xticklabels=cols.values)\n",
    "plt.show()"
   ]
  },
  {
   "cell_type": "code",
   "execution_count": 38,
   "metadata": {},
   "outputs": [
    {
     "name": "stderr",
     "output_type": "stream",
     "text": [
      "C:\\Users\\Kathakali\\Anaconda3\\lib\\site-packages\\matplotlib\\axes\\_axes.py:6571: UserWarning: The 'normed' kwarg is deprecated, and has been replaced by the 'density' kwarg.\n",
      "  warnings.warn(\"The 'normed' kwarg is deprecated, and has been \"\n"
     ]
    },
    {
     "data": {
      "text/plain": [
       "<seaborn.axisgrid.JointGrid at 0x1f0350486d8>"
      ]
     },
     "execution_count": 38,
     "metadata": {},
     "output_type": "execute_result"
    },
    {
     "data": {
      "image/png": "[encoded data removed]",
      "text/plain": [
       "<Figure size 432x432 with 3 Axes>"
      ]
     },
     "metadata": {},
     "output_type": "display_data"
    }
   ],
   "source": [
    "sns.jointplot(x=train_['item_seq_number'], y=train['deal_probability'])"
   ]
  },
  {
   "cell_type": "code",
   "execution_count": 39,
   "metadata": {},
   "outputs": [
    {
     "name": "stderr",
     "output_type": "stream",
     "text": [
      "C:\\Users\\Kathakali\\Anaconda3\\lib\\site-packages\\matplotlib\\axes\\_axes.py:6571: UserWarning: The 'normed' kwarg is deprecated, and has been replaced by the 'density' kwarg.\n",
      "  warnings.warn(\"The 'normed' kwarg is deprecated, and has been \"\n"
     ]
    },
    {
     "data": {
      "text/plain": [
       "<seaborn.axisgrid.JointGrid at 0x1f035048470>"
      ]
     },
     "execution_count": 39,
     "metadata": {},
     "output_type": "execute_result"
    },
    {
     "data": {
      "image/png": "[encoded data removed]",
      "text/plain": [
       "<Figure size 432x432 with 3 Axes>"
      ]
     },
     "metadata": {},
     "output_type": "display_data"
    }
   ],
   "source": [
    "sns.jointplot(x=train_['price'], y=train['deal_probability'])"
   ]
  },
  {
   "cell_type": "code",
   "execution_count": 44,
   "metadata": {},
   "outputs": [
    {
     "name": "stdout",
     "output_type": "stream",
     "text": [
      "Correlation between Price and deal_probability: -0.0010972412435484346\n"
     ]
    },
    {
     "data": {
      "image/png": "[encoded data removed]",
      "text/plain": [
       "<Figure size 432x288 with 1 Axes>"
      ]
     },
     "metadata": {},
     "output_type": "display_data"
    }
   ],
   "source": [
    "pivot = train_.pivot_table(index='price', values='deal_probability', aggfunc=np.median)\n",
    "#pivot.sort_values(ascending=False)\n",
    "\n",
    "\n",
    "pivot.plot(kind='bar', color='red')\n",
    "print('Correlation between Price and deal_probability: {}'.format(corr['deal_probability']['price']))"
   ]
  },
  {
   "cell_type": "code",
   "execution_count": 41,
   "metadata": {},
   "outputs": [
    {
     "name": "stderr",
     "output_type": "stream",
     "text": [
      "C:\\Users\\Kathakali\\Anaconda3\\lib\\site-packages\\matplotlib\\axes\\_axes.py:6571: UserWarning: The 'normed' kwarg is deprecated, and has been replaced by the 'density' kwarg.\n",
      "  warnings.warn(\"The 'normed' kwarg is deprecated, and has been \"\n"
     ]
    },
    {
     "data": {
      "text/plain": [
       "<seaborn.axisgrid.JointGrid at 0x1f03882d1d0>"
      ]
     },
     "execution_count": 41,
     "metadata": {},
     "output_type": "execute_result"
    },
    {
     "data": {
      "image/png": "[encoded data removed]",
      "text/plain": [
       "<Figure size 432x432 with 3 Axes>"
      ]
     },
     "metadata": {},
     "output_type": "display_data"
    }
   ],
   "source": [
    "sns.jointplot(x=train_['image_top_1'], y=train['deal_probability'])"
   ]
  },
  {
   "cell_type": "code",
   "execution_count": 4,
   "metadata": {},
   "outputs": [
    {
     "data": {
      "text/html": [
       "<div>\n",
       "<style scoped>\n",
       "    .dataframe tbody tr th:only-of-type {\n",
       "        vertical-align: middle;\n",
       "    }\n",
       "\n",
       "    .dataframe tbody tr th {\n",
       "        vertical-align: top;\n",
       "    }\n",
       "\n",
       "    .dataframe thead th {\n",
       "        text-align: right;\n",
       "    }\n",
       "</style>\n",
       "<table border=\"1\" class=\"dataframe\">\n",
       "  <thead>\n",
       "    <tr style=\"text-align: right;\">\n",
       "      <th></th>\n",
       "      <th>region</th>\n",
       "      <th>city</th>\n",
       "      <th>parent_category_name</th>\n",
       "      <th>category_name</th>\n",
       "      <th>param_1</th>\n",
       "      <th>param_2</th>\n",
       "      <th>param_3</th>\n",
       "      <th>title</th>\n",
       "      <th>description</th>\n",
       "      <th>user_type</th>\n",
       "      <th>image</th>\n",
       "    </tr>\n",
       "  </thead>\n",
       "  <tbody>\n",
       "    <tr>\n",
       "      <th>count</th>\n",
       "      <td>1503424</td>\n",
       "      <td>1503424</td>\n",
       "      <td>1503424</td>\n",
       "      <td>1503424</td>\n",
       "      <td>1441848</td>\n",
       "      <td>848882</td>\n",
       "      <td>640859</td>\n",
       "      <td>1503424</td>\n",
       "      <td>1387148</td>\n",
       "      <td>1503424</td>\n",
       "      <td>1390836</td>\n",
       "    </tr>\n",
       "    <tr>\n",
       "      <th>unique</th>\n",
       "      <td>28</td>\n",
       "      <td>1733</td>\n",
       "      <td>9</td>\n",
       "      <td>47</td>\n",
       "      <td>371</td>\n",
       "      <td>271</td>\n",
       "      <td>1219</td>\n",
       "      <td>788377</td>\n",
       "      <td>1317102</td>\n",
       "      <td>3</td>\n",
       "      <td>1390836</td>\n",
       "    </tr>\n",
       "    <tr>\n",
       "      <th>top</th>\n",
       "      <td>Краснодарский край</td>\n",
       "      <td>Краснодар</td>\n",
       "      <td>Личные вещи</td>\n",
       "      <td>Одежда, обувь, аксессуары</td>\n",
       "      <td>Женская одежда</td>\n",
       "      <td>Обувь</td>\n",
       "      <td>Вторичка</td>\n",
       "      <td>Платье</td>\n",
       "      <td>В хорошем состоянии</td>\n",
       "      <td>Private</td>\n",
       "      <td>10835892e9cce2848e5005bdbe21db733622eb67a988c2...</td>\n",
       "    </tr>\n",
       "    <tr>\n",
       "      <th>freq</th>\n",
       "      <td>141416</td>\n",
       "      <td>63638</td>\n",
       "      <td>697623</td>\n",
       "      <td>282753</td>\n",
       "      <td>226289</td>\n",
       "      <td>150450</td>\n",
       "      <td>50615</td>\n",
       "      <td>15550</td>\n",
       "      <td>2249</td>\n",
       "      <td>1075706</td>\n",
       "      <td>1</td>\n",
       "    </tr>\n",
       "  </tbody>\n",
       "</table>\n",
       "</div>"
      ],
      "text/plain": [
       "                    region       city parent_category_name  \\\n",
       "count              1503424    1503424              1503424   \n",
       "unique                  28       1733                    9   \n",
       "top     Краснодарский край  Краснодар          Личные вещи   \n",
       "freq                141416      63638               697623   \n",
       "\n",
       "                    category_name         param_1 param_2   param_3    title  \\\n",
       "count                     1503424         1441848  848882    640859  1503424   \n",
       "unique                         47             371     271      1219   788377   \n",
       "top     Одежда, обувь, аксессуары  Женская одежда   Обувь  Вторичка   Платье   \n",
       "freq                       282753          226289  150450     50615    15550   \n",
       "\n",
       "                description user_type  \\\n",
       "count               1387148   1503424   \n",
       "unique              1317102         3   \n",
       "top     В хорошем состоянии   Private   \n",
       "freq                   2249   1075706   \n",
       "\n",
       "                                                    image  \n",
       "count                                             1390836  \n",
       "unique                                            1390836  \n",
       "top     10835892e9cce2848e5005bdbe21db733622eb67a988c2...  \n",
       "freq                                                    1  "
      ]
     },
     "execution_count": 4,
     "metadata": {},
     "output_type": "execute_result"
    }
   ],
   "source": [
    "#categorical variables\n",
    "\n",
    "train_=train.drop(['user_id', 'item_id'], axis=1)\n",
    "c_f=train_.dtypes[train.dtypes=='object'].index\n",
    "\n",
    "train_[c_f].describe()\n"
   ]
  },
  {
   "cell_type": "code",
   "execution_count": 20,
   "metadata": {},
   "outputs": [
    {
     "data": {
      "text/plain": [
       "<seaborn.axisgrid.FacetGrid at 0x17916bf3208>"
      ]
     },
     "execution_count": 20,
     "metadata": {},
     "output_type": "execute_result"
    },
    {
     "data": {
      "image/png": "[encoded data removed]",
      "text/plain": [
       "<Figure size 576x576 with 1 Axes>"
      ]
     },
     "metadata": {},
     "output_type": "display_data"
    }
   ],
   "source": [
    "g=sns.factorplot(x='region', y='deal_probability', data =train, kind=\"box\",size=8)\n",
    "g"
   ]
  },
  {
   "cell_type": "code",
   "execution_count": 21,
   "metadata": {},
   "outputs": [
    {
     "data": {
      "text/plain": [
       "<seaborn.axisgrid.FacetGrid at 0x17916be1278>"
      ]
     },
     "execution_count": 21,
     "metadata": {},
     "output_type": "execute_result"
    },
    {
     "data": {
      "image/png": "[encoded data removed]",
      "text/plain": [
       "<Figure size 576x576 with 1 Axes>"
      ]
     },
     "metadata": {},
     "output_type": "display_data"
    }
   ],
   "source": [
    "g=sns.factorplot(x='city', y='deal_probability', data =train, kind=\"box\",size=8)\n",
    "g"
   ]
  },
  {
   "cell_type": "code",
   "execution_count": 23,
   "metadata": {},
   "outputs": [
    {
     "data": {
      "text/plain": [
       "<seaborn.axisgrid.FacetGrid at 0x1791c1be940>"
      ]
     },
     "execution_count": 23,
     "metadata": {},
     "output_type": "execute_result"
    },
    {
     "data": {
      "image/png": "[encoded data removed]",
      "text/plain": [
       "<Figure size 576x576 with 1 Axes>"
      ]
     },
     "metadata": {},
     "output_type": "display_data"
    }
   ],
   "source": [
    "g=sns.factorplot(x='parent_category_name', y='deal_probability', data =train, kind=\"box\",size=8)\n",
    "g"
   ]
  },
  {
   "cell_type": "code",
   "execution_count": 22,
   "metadata": {},
   "outputs": [
    {
     "data": {
      "text/plain": [
       "<seaborn.axisgrid.FacetGrid at 0x1791c153668>"
      ]
     },
     "execution_count": 22,
     "metadata": {},
     "output_type": "execute_result"
    },
    {
     "data": {
      "image/png": "[encoded data removed]",
      "text/plain": [
       "<Figure size 576x576 with 1 Axes>"
      ]
     },
     "metadata": {},
     "output_type": "display_data"
    }
   ],
   "source": [
    "g=sns.factorplot(x='user_type', y='deal_probability', data =train, kind=\"box\",size=8)\n",
    "g"
   ]
  },
  {
   "cell_type": "code",
   "execution_count": 25,
   "metadata": {},
   "outputs": [
    {
     "data": {
      "image/png": "[encoded data removed]",
      "text/plain": [
       "<Figure size 864x864 with 2 Axes>"
      ]
     },
     "metadata": {},
     "output_type": "display_data"
    }
   ],
   "source": [
    "g = sns.pairplot(train, x_vars=['region', 'category_name'], y_vars=['deal_probability'])\n",
    "g.fig.set_size_inches(12,12)"
   ]
  },
  {
   "cell_type": "code",
   "execution_count": null,
   "metadata": {},
   "outputs": [],
   "source": []
  },
  {
   "cell_type": "code",
   "execution_count": null,
   "metadata": {},
   "outputs": [],
   "source": []
  },
  {
   "cell_type": "code",
   "execution_count": null,
   "metadata": {},
   "outputs": [],
   "source": []
  },
  {
   "cell_type": "code",
   "execution_count": 55,
   "metadata": {},
   "outputs": [
    {
     "data": {
      "text/plain": [
       "Intercept                            0.136257\n",
       "region[T.Башкортостан]               0.012602\n",
       "region[T.Белгородская область]       0.009346\n",
       "region[T.Владимирская область]       0.004730\n",
       "region[T.Волгоградская область]      0.009651\n",
       "region[T.Воронежская область]        0.004750\n",
       "region[T.Иркутская область]          0.003421\n",
       "region[T.Калининградская область]   -0.004683\n",
       "region[T.Кемеровская область]       -0.000777\n",
       "region[T.Краснодарский край]         0.010808\n",
       "region[T.Красноярский край]         -0.015901\n",
       "region[T.Нижегородская область]      0.010351\n",
       "region[T.Новосибирская область]     -0.011568\n",
       "region[T.Омская область]            -0.007072\n",
       "region[T.Оренбургская область]       0.019664\n",
       "region[T.Пермский край]              0.007428\n",
       "region[T.Ростовская область]        -0.000313\n",
       "region[T.Самарская область]          0.000464\n",
       "region[T.Саратовская область]        0.009733\n",
       "region[T.Свердловская область]      -0.014253\n",
       "region[T.Ставропольский край]        0.017329\n",
       "region[T.Татарстан]                  0.006345\n",
       "region[T.Тульская область]           0.007625\n",
       "region[T.Тюменская область]         -0.012064\n",
       "region[T.Удмуртия]                   0.011873\n",
       "region[T.Ханты-Мансийский АО]        0.007439\n",
       "region[T.Челябинская область]        0.006972\n",
       "region[T.Ярославская область]       -0.007413\n",
       "dtype: float64"
      ]
     },
     "execution_count": 55,
     "metadata": {},
     "output_type": "execute_result"
    }
   ],
   "source": [
    "import statsmodels.formula.api as smf\n",
    "\n",
    "lm = smf.ols(formula='deal_probability ~ region', data=train).fit()\n",
    "\n",
    "lm.params"
   ]
  },
  {
   "cell_type": "code",
   "execution_count": 31,
   "metadata": {},
   "outputs": [
    {
     "data": {
      "text/plain": [
       "Intercept               0.124513\n",
       "user_type[T.Private]    0.025045\n",
       "user_type[T.Shop]      -0.061683\n",
       "dtype: float64"
      ]
     },
     "execution_count": 31,
     "metadata": {},
     "output_type": "execute_result"
    }
   ],
   "source": [
    "import statsmodels.formula.api as smf\n",
    "\n",
    "sm = smf.ols(formula='deal_probability ~ user_type', data=train).fit()\n",
    "sm.params"
   ]
  },
  {
   "cell_type": "code",
   "execution_count": 33,
   "metadata": {},
   "outputs": [
    {
     "data": {
      "text/plain": [
       "Intercept                                        0.278427\n",
       "category_name[T.Аквариум]                       -0.094811\n",
       "category_name[T.Аудио и видео]                  -0.106854\n",
       "category_name[T.Билеты и путешествия]           -0.155714\n",
       "category_name[T.Бытовая техника]                -0.025651\n",
       "category_name[T.Велосипеды]                     -0.030854\n",
       "category_name[T.Водный транспорт]               -0.048561\n",
       "category_name[T.Гаражи и машиноместа]           -0.158988\n",
       "category_name[T.Готовый бизнес]                 -0.178522\n",
       "category_name[T.Грузовики и спецтехника]        -0.099946\n",
       "category_name[T.Детская одежда и обувь]         -0.217592\n",
       "category_name[T.Дома, дачи, коттеджи]           -0.153564\n",
       "category_name[T.Другие животные]                -0.014376\n",
       "category_name[T.Земельные участки]              -0.189750\n",
       "category_name[T.Игры, приставки и программы]    -0.075804\n",
       "category_name[T.Квартиры]                       -0.120273\n",
       "category_name[T.Книги и журналы]                -0.237753\n",
       "category_name[T.Коллекционирование]             -0.214708\n",
       "category_name[T.Коммерческая недвижимость]      -0.157211\n",
       "category_name[T.Комнаты]                        -0.094098\n",
       "category_name[T.Кошки]                           0.018833\n",
       "category_name[T.Красота и здоровье]             -0.186045\n",
       "category_name[T.Мебель и интерьер]              -0.086578\n",
       "category_name[T.Мотоциклы и мототехника]        -0.027733\n",
       "category_name[T.Музыкальные инструменты]        -0.087770\n",
       "category_name[T.Настольные компьютеры]          -0.098328\n",
       "category_name[T.Недвижимость за рубежом]        -0.224893\n",
       "category_name[T.Ноутбуки]                       -0.075830\n",
       "category_name[T.Оборудование для бизнеса]       -0.165995\n",
       "category_name[T.Одежда, обувь, аксессуары]      -0.231979\n",
       "category_name[T.Оргтехника и расходники]        -0.144670\n",
       "category_name[T.Охота и рыбалка]                -0.130842\n",
       "category_name[T.Планшеты и электронные книги]   -0.127086\n",
       "category_name[T.Посуда и товары для кухни]      -0.175205\n",
       "category_name[T.Предложение услуг]               0.124697\n",
       "category_name[T.Продукты питания]               -0.142617\n",
       "category_name[T.Птицы]                          -0.040086\n",
       "category_name[T.Растения]                       -0.146947\n",
       "category_name[T.Ремонт и строительство]         -0.132215\n",
       "category_name[T.Собаки]                         -0.025615\n",
       "category_name[T.Спорт и отдых]                  -0.131784\n",
       "category_name[T.Телефоны]                       -0.092250\n",
       "category_name[T.Товары для детей и игрушки]     -0.079981\n",
       "category_name[T.Товары для животных]            -0.144790\n",
       "category_name[T.Товары для компьютера]          -0.115563\n",
       "category_name[T.Фототехника]                    -0.146291\n",
       "category_name[T.Часы и украшения]               -0.223111\n",
       "dtype: float64"
      ]
     },
     "execution_count": 33,
     "metadata": {},
     "output_type": "execute_result"
    }
   ],
   "source": [
    "sm = smf.ols(formula='deal_probability ~ category_name', data=train).fit()\n",
    "sm.params"
   ]
  },
  {
   "cell_type": "code",
   "execution_count": 34,
   "metadata": {},
   "outputs": [
    {
     "name": "stderr",
     "output_type": "stream",
     "text": [
      "ERROR:root:An unexpected error occurred while tokenizing input\n",
      "The following traceback may be corrupted or invalid\n",
      "The error message is: ('EOF in multi-line string', (1, 65))\n",
      "\n"
     ]
    },
    {
     "ename": "MemoryError",
     "evalue": "",
     "output_type": "error",
     "traceback": [
      "\u001b[1;31m---------------------------------------------------------------------------\u001b[0m",
      "\u001b[1;31mMemoryError\u001b[0m                               Traceback (most recent call last)",
      "\u001b[1;32m<ipython-input-34-adf4c59cfbe5>\u001b[0m in \u001b[0;36m<module>\u001b[1;34m()\u001b[0m\n\u001b[0;32m      1\u001b[0m sm = smf.ols(formula=\"\"\"deal_probability ~ category_name\n\u001b[0;32m      2\u001b[0m                                          \u001b[1;33m+\u001b[0m\u001b[0muser_type\u001b[0m\u001b[1;33m+\u001b[0m \u001b[0mcategory_name\u001b[0m\u001b[1;33m\u001b[0m\u001b[0m\n\u001b[1;32m----> 3\u001b[1;33m                                          +param_1+param_2+param_3\"\"\", data=train).fit()\n\u001b[0m\u001b[0;32m      4\u001b[0m \u001b[0msm\u001b[0m\u001b[1;33m.\u001b[0m\u001b[0mparams\u001b[0m\u001b[1;33m\u001b[0m\u001b[0m\n",
      "\u001b[1;32m~\\Anaconda3\\lib\\site-packages\\statsmodels\\base\\model.py\u001b[0m in \u001b[0;36mfrom_formula\u001b[1;34m(cls, formula, data, subset, drop_cols, *args, **kwargs)\u001b[0m\n\u001b[0;32m    153\u001b[0m \u001b[1;33m\u001b[0m\u001b[0m\n\u001b[0;32m    154\u001b[0m         tmp = handle_formula_data(data, None, formula, depth=eval_env,\n\u001b[1;32m--> 155\u001b[1;33m                                   missing=missing)\n\u001b[0m\u001b[0;32m    156\u001b[0m         \u001b[1;33m(\u001b[0m\u001b[1;33m(\u001b[0m\u001b[0mendog\u001b[0m\u001b[1;33m,\u001b[0m \u001b[0mexog\u001b[0m\u001b[1;33m)\u001b[0m\u001b[1;33m,\u001b[0m \u001b[0mmissing_idx\u001b[0m\u001b[1;33m,\u001b[0m \u001b[0mdesign_info\u001b[0m\u001b[1;33m)\u001b[0m \u001b[1;33m=\u001b[0m \u001b[0mtmp\u001b[0m\u001b[1;33m\u001b[0m\u001b[0m\n\u001b[0;32m    157\u001b[0m \u001b[1;33m\u001b[0m\u001b[0m\n",
      "\u001b[1;32m~\\Anaconda3\\lib\\site-packages\\statsmodels\\formula\\formulatools.py\u001b[0m in \u001b[0;36mhandle_formula_data\u001b[1;34m(Y, X, formula, depth, missing)\u001b[0m\n\u001b[0;32m     63\u001b[0m         \u001b[1;32mif\u001b[0m \u001b[0mdata_util\u001b[0m\u001b[1;33m.\u001b[0m\u001b[0m_is_using_pandas\u001b[0m\u001b[1;33m(\u001b[0m\u001b[0mY\u001b[0m\u001b[1;33m,\u001b[0m \u001b[1;32mNone\u001b[0m\u001b[1;33m)\u001b[0m\u001b[1;33m:\u001b[0m\u001b[1;33m\u001b[0m\u001b[0m\n\u001b[0;32m     64\u001b[0m             result = dmatrices(formula, Y, depth, return_type='dataframe',\n\u001b[1;32m---> 65\u001b[1;33m                                NA_action=na_action)\n\u001b[0m\u001b[0;32m     66\u001b[0m         \u001b[1;32melse\u001b[0m\u001b[1;33m:\u001b[0m\u001b[1;33m\u001b[0m\u001b[0m\n\u001b[0;32m     67\u001b[0m             result = dmatrices(formula, Y, depth, return_type='dataframe',\n",
      "\u001b[1;32m~\\Anaconda3\\lib\\site-packages\\patsy\\highlevel.py\u001b[0m in \u001b[0;36mdmatrices\u001b[1;34m(formula_like, data, eval_env, NA_action, return_type)\u001b[0m\n\u001b[0;32m    308\u001b[0m     \u001b[0meval_env\u001b[0m \u001b[1;33m=\u001b[0m \u001b[0mEvalEnvironment\u001b[0m\u001b[1;33m.\u001b[0m\u001b[0mcapture\u001b[0m\u001b[1;33m(\u001b[0m\u001b[0meval_env\u001b[0m\u001b[1;33m,\u001b[0m \u001b[0mreference\u001b[0m\u001b[1;33m=\u001b[0m\u001b[1;36m1\u001b[0m\u001b[1;33m)\u001b[0m\u001b[1;33m\u001b[0m\u001b[0m\n\u001b[0;32m    309\u001b[0m     (lhs, rhs) = _do_highlevel_design(formula_like, data, eval_env,\n\u001b[1;32m--> 310\u001b[1;33m                                       NA_action, return_type)\n\u001b[0m\u001b[0;32m    311\u001b[0m     \u001b[1;32mif\u001b[0m \u001b[0mlhs\u001b[0m\u001b[1;33m.\u001b[0m\u001b[0mshape\u001b[0m\u001b[1;33m[\u001b[0m\u001b[1;36m1\u001b[0m\u001b[1;33m]\u001b[0m \u001b[1;33m==\u001b[0m \u001b[1;36m0\u001b[0m\u001b[1;33m:\u001b[0m\u001b[1;33m\u001b[0m\u001b[0m\n\u001b[0;32m    312\u001b[0m         \u001b[1;32mraise\u001b[0m \u001b[0mPatsyError\u001b[0m\u001b[1;33m(\u001b[0m\u001b[1;34m\"model is missing required outcome variables\"\u001b[0m\u001b[1;33m)\u001b[0m\u001b[1;33m\u001b[0m\u001b[0m\n",
      "\u001b[1;32m~\\Anaconda3\\lib\\site-packages\\patsy\\highlevel.py\u001b[0m in \u001b[0;36m_do_highlevel_design\u001b[1;34m(formula_like, data, eval_env, NA_action, return_type)\u001b[0m\n\u001b[0;32m    167\u001b[0m         return build_design_matrices(design_infos, data,\n\u001b[0;32m    168\u001b[0m                                      \u001b[0mNA_action\u001b[0m\u001b[1;33m=\u001b[0m\u001b[0mNA_action\u001b[0m\u001b[1;33m,\u001b[0m\u001b[1;33m\u001b[0m\u001b[0m\n\u001b[1;32m--> 169\u001b[1;33m                                      return_type=return_type)\n\u001b[0m\u001b[0;32m    170\u001b[0m     \u001b[1;32melse\u001b[0m\u001b[1;33m:\u001b[0m\u001b[1;33m\u001b[0m\u001b[0m\n\u001b[0;32m    171\u001b[0m         \u001b[1;31m# No builders, but maybe we can still get matrices\u001b[0m\u001b[1;33m\u001b[0m\u001b[1;33m\u001b[0m\u001b[0m\n",
      "\u001b[1;32m~\\Anaconda3\\lib\\site-packages\\patsy\\build.py\u001b[0m in \u001b[0;36mbuild_design_matrices\u001b[1;34m(design_infos, data, NA_action, return_type, dtype)\u001b[0m\n\u001b[0;32m    931\u001b[0m         results.append(_build_design_matrix(design_info,\n\u001b[0;32m    932\u001b[0m                                             \u001b[0mfactor_info_to_values\u001b[0m\u001b[1;33m,\u001b[0m\u001b[1;33m\u001b[0m\u001b[0m\n\u001b[1;32m--> 933\u001b[1;33m                                             dtype))\n\u001b[0m\u001b[0;32m    934\u001b[0m     \u001b[0mmatrices\u001b[0m \u001b[1;33m=\u001b[0m \u001b[1;33m[\u001b[0m\u001b[1;33m]\u001b[0m\u001b[1;33m\u001b[0m\u001b[0m\n\u001b[0;32m    935\u001b[0m     \u001b[1;32mfor\u001b[0m \u001b[0mneed_reshape\u001b[0m\u001b[1;33m,\u001b[0m \u001b[0mmatrix\u001b[0m \u001b[1;32min\u001b[0m \u001b[0mresults\u001b[0m\u001b[1;33m:\u001b[0m\u001b[1;33m\u001b[0m\u001b[0m\n",
      "\u001b[1;32m~\\Anaconda3\\lib\\site-packages\\patsy\\build.py\u001b[0m in \u001b[0;36m_build_design_matrix\u001b[1;34m(design_info, factor_info_to_values, dtype)\u001b[0m\n\u001b[0;32m    760\u001b[0m         \u001b[0mneed_reshape\u001b[0m \u001b[1;33m=\u001b[0m \u001b[1;32mTrue\u001b[0m\u001b[1;33m\u001b[0m\u001b[0m\n\u001b[0;32m    761\u001b[0m     \u001b[0mshape\u001b[0m \u001b[1;33m=\u001b[0m \u001b[1;33m(\u001b[0m\u001b[0mnum_rows\u001b[0m\u001b[1;33m,\u001b[0m \u001b[0mlen\u001b[0m\u001b[1;33m(\u001b[0m\u001b[0mdesign_info\u001b[0m\u001b[1;33m.\u001b[0m\u001b[0mcolumn_names\u001b[0m\u001b[1;33m)\u001b[0m\u001b[1;33m)\u001b[0m\u001b[1;33m\u001b[0m\u001b[0m\n\u001b[1;32m--> 762\u001b[1;33m     \u001b[0mm\u001b[0m \u001b[1;33m=\u001b[0m \u001b[0mDesignMatrix\u001b[0m\u001b[1;33m(\u001b[0m\u001b[0mnp\u001b[0m\u001b[1;33m.\u001b[0m\u001b[0mempty\u001b[0m\u001b[1;33m(\u001b[0m\u001b[0mshape\u001b[0m\u001b[1;33m,\u001b[0m \u001b[0mdtype\u001b[0m\u001b[1;33m=\u001b[0m\u001b[0mdtype\u001b[0m\u001b[1;33m)\u001b[0m\u001b[1;33m,\u001b[0m \u001b[0mdesign_info\u001b[0m\u001b[1;33m)\u001b[0m\u001b[1;33m\u001b[0m\u001b[0m\n\u001b[0m\u001b[0;32m    763\u001b[0m     \u001b[0mstart_column\u001b[0m \u001b[1;33m=\u001b[0m \u001b[1;36m0\u001b[0m\u001b[1;33m\u001b[0m\u001b[0m\n\u001b[0;32m    764\u001b[0m     \u001b[1;32mfor\u001b[0m \u001b[0mterm\u001b[0m\u001b[1;33m,\u001b[0m \u001b[0msubterms\u001b[0m \u001b[1;32min\u001b[0m \u001b[0msix\u001b[0m\u001b[1;33m.\u001b[0m\u001b[0miteritems\u001b[0m\u001b[1;33m(\u001b[0m\u001b[0mdesign_info\u001b[0m\u001b[1;33m.\u001b[0m\u001b[0mterm_codings\u001b[0m\u001b[1;33m)\u001b[0m\u001b[1;33m:\u001b[0m\u001b[1;33m\u001b[0m\u001b[0m\n",
      "\u001b[1;31mMemoryError\u001b[0m: "
     ]
    }
   ],
   "source": [
    "sm = smf.ols(formula=\"\"\"deal_probability ~ category_name\n",
    "                                         +user_type+ category_name\n",
    "                                         +param_1+param_2+param_3\"\"\", data=train).fit()\n",
    "sm.params"
   ]
  },
  {
   "cell_type": "code",
   "execution_count": null,
   "metadata": {},
   "outputs": [],
   "source": []
  },
  {
   "cell_type": "code",
   "execution_count": null,
   "metadata": {},
   "outputs": [],
   "source": []
  },
  {
   "cell_type": "markdown",
   "metadata": {},
   "source": [
    "# cleaning"
   ]
  },
  {
   "cell_type": "code",
   "execution_count": 4,
   "metadata": {},
   "outputs": [],
   "source": [
    "train[\"Weekday\"] = train['activation_date'].dt.weekday\n",
    "train[\"Weekend_no\"] = train['activation_date'].dt.week\n",
    "train[\"day\"] = train['activation_date'].dt.day\n",
    "\n",
    "test[\"Weekday\"] = test['activation_date'].dt.weekday\n",
    "test[\"Weekend_no\"] = test['activation_date'].dt.week\n",
    "test[\"day\"] = test['activation_date'].dt.day"
   ]
  },
  {
   "cell_type": "code",
   "execution_count": 5,
   "metadata": {},
   "outputs": [
    {
     "data": {
      "text/plain": [
       "(1503424, 16)"
      ]
     },
     "execution_count": 5,
     "metadata": {},
     "output_type": "execute_result"
    }
   ],
   "source": [
    "clean_train=train.drop(['item_id','user_id', 'title', 'description', 'image'], axis=1)\n",
    "clean_train.shape\n"
   ]
  },
  {
   "cell_type": "code",
   "execution_count": 6,
   "metadata": {},
   "outputs": [
    {
     "data": {
      "text/plain": [
       "(508438, 15)"
      ]
     },
     "execution_count": 6,
     "metadata": {},
     "output_type": "execute_result"
    }
   ],
   "source": [
    "clean_test=test.drop(['item_id','user_id', 'title', 'description', 'image'], axis=1)\n",
    "clean_test.shape"
   ]
  },
  {
   "cell_type": "code",
   "execution_count": 7,
   "metadata": {},
   "outputs": [],
   "source": [
    "#first label encode data"
   ]
  },
  {
   "cell_type": "code",
   "execution_count": 8,
   "metadata": {},
   "outputs": [
    {
     "data": {
      "text/plain": [
       "region                          object\n",
       "city                            object\n",
       "parent_category_name            object\n",
       "category_name                   object\n",
       "param_1                         object\n",
       "param_2                         object\n",
       "param_3                         object\n",
       "price                          float64\n",
       "item_seq_number                  int64\n",
       "activation_date         datetime64[ns]\n",
       "user_type                       object\n",
       "image_top_1                    float64\n",
       "deal_probability               float64\n",
       "Weekday                          int64\n",
       "Weekend_no                       int64\n",
       "day                              int64\n",
       "dtype: object"
      ]
     },
     "execution_count": 8,
     "metadata": {},
     "output_type": "execute_result"
    }
   ],
   "source": [
    "clean_train.dtypes"
   ]
  },
  {
   "cell_type": "code",
   "execution_count": 7,
   "metadata": {},
   "outputs": [],
   "source": [
    "from sklearn import preprocessing\n",
    "\n",
    "le = preprocessing.LabelEncoder()\n",
    "data=clean_train\n",
    "\n",
    "r2=le.fit_transform(data['region'].astype(str))\n",
    "r3=le.fit_transform(data['city'].astype(str))\n",
    "r4=le.fit_transform(data['parent_category_name'].astype(str))\n",
    "r5=le.fit_transform(data['category_name'].astype(str))\n",
    "r6=le.fit_transform(data['param_1'].astype(str))\n",
    "r7=le.fit_transform(data['param_2'].astype(str))\n",
    "r8=le.fit_transform(data['param_3'].astype(str))\n",
    "#r8=le.fit_transform(data['price'].astype(str))\n",
    "#r9=le.fit_transform(data['item_seq_number'].astype(str))\n",
    "r9=le.fit_transform(data['activation_date'].astype(str))\n",
    "r10=le.fit_transform(data['user_type'].astype(str))\n",
    "r11=le.fit_transform(data['image_top_1'].astype(str))"
   ]
  },
  {
   "cell_type": "code",
   "execution_count": 8,
   "metadata": {},
   "outputs": [],
   "source": [
    "clean_train['region']=r2\n",
    "clean_train['city']=r3\n",
    "clean_train['parent_category_name']=r4\n",
    "clean_train['category_name']=r5\n",
    "clean_train['param_1']=r6\n",
    "clean_train['param_2']=r7\n",
    "clean_train['param_3']=r8\n",
    "clean_train['activation_date']=r9\n",
    "clean_train['user_type']=r10\n",
    "clean_train['image_top_1']=r11"
   ]
  },
  {
   "cell_type": "code",
   "execution_count": 9,
   "metadata": {},
   "outputs": [
    {
     "data": {
      "text/plain": [
       "region                    int64\n",
       "city                      int64\n",
       "parent_category_name      int64\n",
       "category_name             int64\n",
       "param_1                   int64\n",
       "param_2                   int64\n",
       "param_3                   int64\n",
       "price                   float64\n",
       "item_seq_number           int64\n",
       "activation_date           int64\n",
       "user_type                 int64\n",
       "image_top_1               int64\n",
       "deal_probability        float64\n",
       "Weekday                   int64\n",
       "Weekend_no                int64\n",
       "day                       int64\n",
       "dtype: object"
      ]
     },
     "execution_count": 9,
     "metadata": {},
     "output_type": "execute_result"
    }
   ],
   "source": [
    "clean_train.dtypes"
   ]
  },
  {
   "cell_type": "code",
   "execution_count": 14,
   "metadata": {},
   "outputs": [
    {
     "name": "stdout",
     "output_type": "stream",
     "text": [
      "(1503424, 1)\n"
     ]
    }
   ],
   "source": [
    "deal=clean_train[['deal_probability']]\n",
    "trainY=deal.astype(str)\n",
    "print (trainY.shape)\n"
   ]
  },
  {
   "cell_type": "code",
   "execution_count": 13,
   "metadata": {},
   "outputs": [
    {
     "data": {
      "text/html": [
       "<div>\n",
       "<style scoped>\n",
       "    .dataframe tbody tr th:only-of-type {\n",
       "        vertical-align: middle;\n",
       "    }\n",
       "\n",
       "    .dataframe tbody tr th {\n",
       "        vertical-align: top;\n",
       "    }\n",
       "\n",
       "    .dataframe thead th {\n",
       "        text-align: right;\n",
       "    }\n",
       "</style>\n",
       "<table border=\"1\" class=\"dataframe\">\n",
       "  <thead>\n",
       "    <tr style=\"text-align: right;\">\n",
       "      <th></th>\n",
       "      <th>region</th>\n",
       "      <th>city</th>\n",
       "      <th>parent_category_name</th>\n",
       "      <th>category_name</th>\n",
       "      <th>param_1</th>\n",
       "      <th>param_2</th>\n",
       "      <th>param_3</th>\n",
       "      <th>price</th>\n",
       "      <th>item_seq_number</th>\n",
       "      <th>activation_date</th>\n",
       "      <th>user_type</th>\n",
       "      <th>image_top_1</th>\n",
       "      <th>Weekday</th>\n",
       "      <th>Weekend_no</th>\n",
       "      <th>day</th>\n",
       "    </tr>\n",
       "  </thead>\n",
       "  <tbody>\n",
       "    <tr>\n",
       "      <th>0</th>\n",
       "      <td>19</td>\n",
       "      <td>460</td>\n",
       "      <td>4</td>\n",
       "      <td>42</td>\n",
       "      <td>249</td>\n",
       "      <td>107</td>\n",
       "      <td>1162</td>\n",
       "      <td>400.0</td>\n",
       "      <td>2</td>\n",
       "      <td>13</td>\n",
       "      <td>1</td>\n",
       "      <td>12</td>\n",
       "      <td>1</td>\n",
       "      <td>13</td>\n",
       "      <td>28</td>\n",
       "    </tr>\n",
       "    <tr>\n",
       "      <th>1</th>\n",
       "      <td>17</td>\n",
       "      <td>1300</td>\n",
       "      <td>2</td>\n",
       "      <td>22</td>\n",
       "      <td>122</td>\n",
       "      <td>107</td>\n",
       "      <td>1162</td>\n",
       "      <td>3000.0</td>\n",
       "      <td>19</td>\n",
       "      <td>11</td>\n",
       "      <td>1</td>\n",
       "      <td>2721</td>\n",
       "      <td>6</td>\n",
       "      <td>12</td>\n",
       "      <td>26</td>\n",
       "    </tr>\n",
       "    <tr>\n",
       "      <th>2</th>\n",
       "      <td>16</td>\n",
       "      <td>1276</td>\n",
       "      <td>0</td>\n",
       "      <td>2</td>\n",
       "      <td>84</td>\n",
       "      <td>107</td>\n",
       "      <td>1162</td>\n",
       "      <td>4000.0</td>\n",
       "      <td>9</td>\n",
       "      <td>5</td>\n",
       "      <td>1</td>\n",
       "      <td>2259</td>\n",
       "      <td>0</td>\n",
       "      <td>12</td>\n",
       "      <td>20</td>\n",
       "    </tr>\n",
       "    <tr>\n",
       "      <th>3</th>\n",
       "      <td>21</td>\n",
       "      <td>940</td>\n",
       "      <td>4</td>\n",
       "      <td>42</td>\n",
       "      <td>38</td>\n",
       "      <td>107</td>\n",
       "      <td>1162</td>\n",
       "      <td>2200.0</td>\n",
       "      <td>286</td>\n",
       "      <td>10</td>\n",
       "      <td>0</td>\n",
       "      <td>2836</td>\n",
       "      <td>5</td>\n",
       "      <td>12</td>\n",
       "      <td>25</td>\n",
       "    </tr>\n",
       "    <tr>\n",
       "      <th>4</th>\n",
       "      <td>4</td>\n",
       "      <td>317</td>\n",
       "      <td>6</td>\n",
       "      <td>0</td>\n",
       "      <td>278</td>\n",
       "      <td>119</td>\n",
       "      <td>44</td>\n",
       "      <td>40000.0</td>\n",
       "      <td>3</td>\n",
       "      <td>1</td>\n",
       "      <td>1</td>\n",
       "      <td>1407</td>\n",
       "      <td>3</td>\n",
       "      <td>11</td>\n",
       "      <td>16</td>\n",
       "    </tr>\n",
       "    <tr>\n",
       "      <th>5</th>\n",
       "      <td>21</td>\n",
       "      <td>1657</td>\n",
       "      <td>4</td>\n",
       "      <td>42</td>\n",
       "      <td>38</td>\n",
       "      <td>107</td>\n",
       "      <td>1162</td>\n",
       "      <td>1300.0</td>\n",
       "      <td>9</td>\n",
       "      <td>13</td>\n",
       "      <td>1</td>\n",
       "      <td>2836</td>\n",
       "      <td>1</td>\n",
       "      <td>13</td>\n",
       "      <td>28</td>\n",
       "    </tr>\n",
       "    <tr>\n",
       "      <th>6</th>\n",
       "      <td>11</td>\n",
       "      <td>975</td>\n",
       "      <td>2</td>\n",
       "      <td>38</td>\n",
       "      <td>283</td>\n",
       "      <td>107</td>\n",
       "      <td>1162</td>\n",
       "      <td>11000.0</td>\n",
       "      <td>125</td>\n",
       "      <td>8</td>\n",
       "      <td>1</td>\n",
       "      <td>2026</td>\n",
       "      <td>3</td>\n",
       "      <td>12</td>\n",
       "      <td>23</td>\n",
       "    </tr>\n",
       "    <tr>\n",
       "      <th>7</th>\n",
       "      <td>15</td>\n",
       "      <td>1153</td>\n",
       "      <td>4</td>\n",
       "      <td>29</td>\n",
       "      <td>126</td>\n",
       "      <td>136</td>\n",
       "      <td>71</td>\n",
       "      <td>500.0</td>\n",
       "      <td>61</td>\n",
       "      <td>10</td>\n",
       "      <td>1</td>\n",
       "      <td>2583</td>\n",
       "      <td>5</td>\n",
       "      <td>12</td>\n",
       "      <td>25</td>\n",
       "    </tr>\n",
       "    <tr>\n",
       "      <th>8</th>\n",
       "      <td>14</td>\n",
       "      <td>1107</td>\n",
       "      <td>4</td>\n",
       "      <td>29</td>\n",
       "      <td>126</td>\n",
       "      <td>203</td>\n",
       "      <td>212</td>\n",
       "      <td>500.0</td>\n",
       "      <td>85</td>\n",
       "      <td>2</td>\n",
       "      <td>1</td>\n",
       "      <td>2415</td>\n",
       "      <td>4</td>\n",
       "      <td>11</td>\n",
       "      <td>17</td>\n",
       "    </tr>\n",
       "    <tr>\n",
       "      <th>9</th>\n",
       "      <td>11</td>\n",
       "      <td>975</td>\n",
       "      <td>4</td>\n",
       "      <td>10</td>\n",
       "      <td>105</td>\n",
       "      <td>193</td>\n",
       "      <td>70</td>\n",
       "      <td>400.0</td>\n",
       "      <td>136</td>\n",
       "      <td>7</td>\n",
       "      <td>0</td>\n",
       "      <td>2464</td>\n",
       "      <td>2</td>\n",
       "      <td>12</td>\n",
       "      <td>22</td>\n",
       "    </tr>\n",
       "    <tr>\n",
       "      <th>10</th>\n",
       "      <td>25</td>\n",
       "      <td>1602</td>\n",
       "      <td>5</td>\n",
       "      <td>15</td>\n",
       "      <td>284</td>\n",
       "      <td>188</td>\n",
       "      <td>0</td>\n",
       "      <td>18000.0</td>\n",
       "      <td>6</td>\n",
       "      <td>10</td>\n",
       "      <td>1</td>\n",
       "      <td>442</td>\n",
       "      <td>5</td>\n",
       "      <td>12</td>\n",
       "      <td>25</td>\n",
       "    </tr>\n",
       "    <tr>\n",
       "      <th>11</th>\n",
       "      <td>23</td>\n",
       "      <td>495</td>\n",
       "      <td>4</td>\n",
       "      <td>29</td>\n",
       "      <td>126</td>\n",
       "      <td>136</td>\n",
       "      <td>1170</td>\n",
       "      <td>1.0</td>\n",
       "      <td>4</td>\n",
       "      <td>4</td>\n",
       "      <td>2</td>\n",
       "      <td>213</td>\n",
       "      <td>6</td>\n",
       "      <td>11</td>\n",
       "      <td>19</td>\n",
       "    </tr>\n",
       "    <tr>\n",
       "      <th>12</th>\n",
       "      <td>14</td>\n",
       "      <td>1107</td>\n",
       "      <td>4</td>\n",
       "      <td>42</td>\n",
       "      <td>325</td>\n",
       "      <td>107</td>\n",
       "      <td>1162</td>\n",
       "      <td>70.0</td>\n",
       "      <td>15</td>\n",
       "      <td>6</td>\n",
       "      <td>1</td>\n",
       "      <td>48</td>\n",
       "      <td>1</td>\n",
       "      <td>12</td>\n",
       "      <td>21</td>\n",
       "    </tr>\n",
       "    <tr>\n",
       "      <th>13</th>\n",
       "      <td>16</td>\n",
       "      <td>1276</td>\n",
       "      <td>0</td>\n",
       "      <td>44</td>\n",
       "      <td>201</td>\n",
       "      <td>107</td>\n",
       "      <td>1162</td>\n",
       "      <td>2500.0</td>\n",
       "      <td>47</td>\n",
       "      <td>7</td>\n",
       "      <td>1</td>\n",
       "      <td>2054</td>\n",
       "      <td>2</td>\n",
       "      <td>12</td>\n",
       "      <td>22</td>\n",
       "    </tr>\n",
       "    <tr>\n",
       "      <th>14</th>\n",
       "      <td>1</td>\n",
       "      <td>1525</td>\n",
       "      <td>3</td>\n",
       "      <td>39</td>\n",
       "      <td>214</td>\n",
       "      <td>107</td>\n",
       "      <td>1162</td>\n",
       "      <td>5000.0</td>\n",
       "      <td>6</td>\n",
       "      <td>8</td>\n",
       "      <td>1</td>\n",
       "      <td>1262</td>\n",
       "      <td>3</td>\n",
       "      <td>12</td>\n",
       "      <td>23</td>\n",
       "    </tr>\n",
       "    <tr>\n",
       "      <th>15</th>\n",
       "      <td>21</td>\n",
       "      <td>585</td>\n",
       "      <td>4</td>\n",
       "      <td>29</td>\n",
       "      <td>126</td>\n",
       "      <td>203</td>\n",
       "      <td>138</td>\n",
       "      <td>800.0</td>\n",
       "      <td>86</td>\n",
       "      <td>12</td>\n",
       "      <td>1</td>\n",
       "      <td>2407</td>\n",
       "      <td>0</td>\n",
       "      <td>13</td>\n",
       "      <td>27</td>\n",
       "    </tr>\n",
       "    <tr>\n",
       "      <th>16</th>\n",
       "      <td>9</td>\n",
       "      <td>723</td>\n",
       "      <td>6</td>\n",
       "      <td>0</td>\n",
       "      <td>278</td>\n",
       "      <td>26</td>\n",
       "      <td>668</td>\n",
       "      <td>140000.0</td>\n",
       "      <td>201</td>\n",
       "      <td>3</td>\n",
       "      <td>0</td>\n",
       "      <td>134</td>\n",
       "      <td>5</td>\n",
       "      <td>11</td>\n",
       "      <td>18</td>\n",
       "    </tr>\n",
       "    <tr>\n",
       "      <th>17</th>\n",
       "      <td>12</td>\n",
       "      <td>1048</td>\n",
       "      <td>4</td>\n",
       "      <td>42</td>\n",
       "      <td>134</td>\n",
       "      <td>107</td>\n",
       "      <td>1162</td>\n",
       "      <td>500.0</td>\n",
       "      <td>9</td>\n",
       "      <td>5</td>\n",
       "      <td>1</td>\n",
       "      <td>3044</td>\n",
       "      <td>0</td>\n",
       "      <td>12</td>\n",
       "      <td>20</td>\n",
       "    </tr>\n",
       "    <tr>\n",
       "      <th>18</th>\n",
       "      <td>13</td>\n",
       "      <td>923</td>\n",
       "      <td>4</td>\n",
       "      <td>29</td>\n",
       "      <td>126</td>\n",
       "      <td>122</td>\n",
       "      <td>143</td>\n",
       "      <td>1000.0</td>\n",
       "      <td>4</td>\n",
       "      <td>9</td>\n",
       "      <td>1</td>\n",
       "      <td>3007</td>\n",
       "      <td>4</td>\n",
       "      <td>12</td>\n",
       "      <td>24</td>\n",
       "    </tr>\n",
       "    <tr>\n",
       "      <th>19</th>\n",
       "      <td>2</td>\n",
       "      <td>136</td>\n",
       "      <td>5</td>\n",
       "      <td>11</td>\n",
       "      <td>297</td>\n",
       "      <td>167</td>\n",
       "      <td>1202</td>\n",
       "      <td>100000.0</td>\n",
       "      <td>5</td>\n",
       "      <td>13</td>\n",
       "      <td>1</td>\n",
       "      <td>3062</td>\n",
       "      <td>1</td>\n",
       "      <td>13</td>\n",
       "      <td>28</td>\n",
       "    </tr>\n",
       "    <tr>\n",
       "      <th>20</th>\n",
       "      <td>12</td>\n",
       "      <td>150</td>\n",
       "      <td>5</td>\n",
       "      <td>15</td>\n",
       "      <td>258</td>\n",
       "      <td>1</td>\n",
       "      <td>1174</td>\n",
       "      <td>1748000.0</td>\n",
       "      <td>461</td>\n",
       "      <td>2</td>\n",
       "      <td>0</td>\n",
       "      <td>1127</td>\n",
       "      <td>4</td>\n",
       "      <td>11</td>\n",
       "      <td>17</td>\n",
       "    </tr>\n",
       "    <tr>\n",
       "      <th>21</th>\n",
       "      <td>19</td>\n",
       "      <td>460</td>\n",
       "      <td>4</td>\n",
       "      <td>29</td>\n",
       "      <td>126</td>\n",
       "      <td>122</td>\n",
       "      <td>212</td>\n",
       "      <td>2600.0</td>\n",
       "      <td>33</td>\n",
       "      <td>1</td>\n",
       "      <td>1</td>\n",
       "      <td>3062</td>\n",
       "      <td>3</td>\n",
       "      <td>11</td>\n",
       "      <td>16</td>\n",
       "    </tr>\n",
       "    <tr>\n",
       "      <th>22</th>\n",
       "      <td>26</td>\n",
       "      <td>857</td>\n",
       "      <td>6</td>\n",
       "      <td>0</td>\n",
       "      <td>278</td>\n",
       "      <td>40</td>\n",
       "      <td>526</td>\n",
       "      <td>249000.0</td>\n",
       "      <td>12</td>\n",
       "      <td>5</td>\n",
       "      <td>1</td>\n",
       "      <td>1407</td>\n",
       "      <td>0</td>\n",
       "      <td>12</td>\n",
       "      <td>20</td>\n",
       "    </tr>\n",
       "    <tr>\n",
       "      <th>23</th>\n",
       "      <td>16</td>\n",
       "      <td>1276</td>\n",
       "      <td>4</td>\n",
       "      <td>10</td>\n",
       "      <td>105</td>\n",
       "      <td>193</td>\n",
       "      <td>70</td>\n",
       "      <td>1300.0</td>\n",
       "      <td>59</td>\n",
       "      <td>5</td>\n",
       "      <td>1</td>\n",
       "      <td>2918</td>\n",
       "      <td>0</td>\n",
       "      <td>12</td>\n",
       "      <td>20</td>\n",
       "    </tr>\n",
       "    <tr>\n",
       "      <th>24</th>\n",
       "      <td>11</td>\n",
       "      <td>975</td>\n",
       "      <td>3</td>\n",
       "      <td>43</td>\n",
       "      <td>32</td>\n",
       "      <td>107</td>\n",
       "      <td>1162</td>\n",
       "      <td>NaN</td>\n",
       "      <td>310</td>\n",
       "      <td>1</td>\n",
       "      <td>0</td>\n",
       "      <td>2889</td>\n",
       "      <td>3</td>\n",
       "      <td>11</td>\n",
       "      <td>16</td>\n",
       "    </tr>\n",
       "    <tr>\n",
       "      <th>25</th>\n",
       "      <td>5</td>\n",
       "      <td>329</td>\n",
       "      <td>4</td>\n",
       "      <td>42</td>\n",
       "      <td>134</td>\n",
       "      <td>107</td>\n",
       "      <td>1162</td>\n",
       "      <td>1500.0</td>\n",
       "      <td>309</td>\n",
       "      <td>9</td>\n",
       "      <td>0</td>\n",
       "      <td>3015</td>\n",
       "      <td>4</td>\n",
       "      <td>12</td>\n",
       "      <td>24</td>\n",
       "    </tr>\n",
       "    <tr>\n",
       "      <th>26</th>\n",
       "      <td>17</td>\n",
       "      <td>1507</td>\n",
       "      <td>2</td>\n",
       "      <td>22</td>\n",
       "      <td>317</td>\n",
       "      <td>107</td>\n",
       "      <td>1162</td>\n",
       "      <td>1000.0</td>\n",
       "      <td>59</td>\n",
       "      <td>11</td>\n",
       "      <td>1</td>\n",
       "      <td>470</td>\n",
       "      <td>6</td>\n",
       "      <td>12</td>\n",
       "      <td>26</td>\n",
       "    </tr>\n",
       "    <tr>\n",
       "      <th>27</th>\n",
       "      <td>8</td>\n",
       "      <td>1023</td>\n",
       "      <td>4</td>\n",
       "      <td>29</td>\n",
       "      <td>126</td>\n",
       "      <td>193</td>\n",
       "      <td>114</td>\n",
       "      <td>1500.0</td>\n",
       "      <td>8</td>\n",
       "      <td>12</td>\n",
       "      <td>1</td>\n",
       "      <td>2438</td>\n",
       "      <td>0</td>\n",
       "      <td>13</td>\n",
       "      <td>27</td>\n",
       "    </tr>\n",
       "    <tr>\n",
       "      <th>28</th>\n",
       "      <td>18</td>\n",
       "      <td>1305</td>\n",
       "      <td>4</td>\n",
       "      <td>29</td>\n",
       "      <td>126</td>\n",
       "      <td>203</td>\n",
       "      <td>149</td>\n",
       "      <td>1000.0</td>\n",
       "      <td>12</td>\n",
       "      <td>10</td>\n",
       "      <td>1</td>\n",
       "      <td>2639</td>\n",
       "      <td>5</td>\n",
       "      <td>12</td>\n",
       "      <td>25</td>\n",
       "    </tr>\n",
       "    <tr>\n",
       "      <th>29</th>\n",
       "      <td>11</td>\n",
       "      <td>975</td>\n",
       "      <td>4</td>\n",
       "      <td>10</td>\n",
       "      <td>110</td>\n",
       "      <td>142</td>\n",
       "      <td>1162</td>\n",
       "      <td>200.0</td>\n",
       "      <td>20</td>\n",
       "      <td>4</td>\n",
       "      <td>1</td>\n",
       "      <td>2652</td>\n",
       "      <td>6</td>\n",
       "      <td>11</td>\n",
       "      <td>19</td>\n",
       "    </tr>\n",
       "    <tr>\n",
       "      <th>...</th>\n",
       "      <td>...</td>\n",
       "      <td>...</td>\n",
       "      <td>...</td>\n",
       "      <td>...</td>\n",
       "      <td>...</td>\n",
       "      <td>...</td>\n",
       "      <td>...</td>\n",
       "      <td>...</td>\n",
       "      <td>...</td>\n",
       "      <td>...</td>\n",
       "      <td>...</td>\n",
       "      <td>...</td>\n",
       "      <td>...</td>\n",
       "      <td>...</td>\n",
       "      <td>...</td>\n",
       "    </tr>\n",
       "    <tr>\n",
       "      <th>1503394</th>\n",
       "      <td>16</td>\n",
       "      <td>1276</td>\n",
       "      <td>2</td>\n",
       "      <td>22</td>\n",
       "      <td>359</td>\n",
       "      <td>107</td>\n",
       "      <td>1162</td>\n",
       "      <td>2000.0</td>\n",
       "      <td>5</td>\n",
       "      <td>1</td>\n",
       "      <td>1</td>\n",
       "      <td>514</td>\n",
       "      <td>3</td>\n",
       "      <td>11</td>\n",
       "      <td>16</td>\n",
       "    </tr>\n",
       "    <tr>\n",
       "      <th>1503395</th>\n",
       "      <td>6</td>\n",
       "      <td>231</td>\n",
       "      <td>6</td>\n",
       "      <td>23</td>\n",
       "      <td>79</td>\n",
       "      <td>107</td>\n",
       "      <td>1162</td>\n",
       "      <td>20000.0</td>\n",
       "      <td>41</td>\n",
       "      <td>13</td>\n",
       "      <td>0</td>\n",
       "      <td>161</td>\n",
       "      <td>1</td>\n",
       "      <td>13</td>\n",
       "      <td>28</td>\n",
       "    </tr>\n",
       "    <tr>\n",
       "      <th>1503396</th>\n",
       "      <td>22</td>\n",
       "      <td>652</td>\n",
       "      <td>8</td>\n",
       "      <td>24</td>\n",
       "      <td>240</td>\n",
       "      <td>107</td>\n",
       "      <td>1162</td>\n",
       "      <td>NaN</td>\n",
       "      <td>32</td>\n",
       "      <td>6</td>\n",
       "      <td>1</td>\n",
       "      <td>1685</td>\n",
       "      <td>1</td>\n",
       "      <td>12</td>\n",
       "      <td>21</td>\n",
       "    </tr>\n",
       "    <tr>\n",
       "      <th>1503397</th>\n",
       "      <td>27</td>\n",
       "      <td>1724</td>\n",
       "      <td>4</td>\n",
       "      <td>29</td>\n",
       "      <td>126</td>\n",
       "      <td>122</td>\n",
       "      <td>143</td>\n",
       "      <td>450.0</td>\n",
       "      <td>36</td>\n",
       "      <td>5</td>\n",
       "      <td>1</td>\n",
       "      <td>2585</td>\n",
       "      <td>0</td>\n",
       "      <td>12</td>\n",
       "      <td>20</td>\n",
       "    </tr>\n",
       "    <tr>\n",
       "      <th>1503398</th>\n",
       "      <td>10</td>\n",
       "      <td>743</td>\n",
       "      <td>4</td>\n",
       "      <td>29</td>\n",
       "      <td>126</td>\n",
       "      <td>122</td>\n",
       "      <td>143</td>\n",
       "      <td>500.0</td>\n",
       "      <td>8</td>\n",
       "      <td>3</td>\n",
       "      <td>1</td>\n",
       "      <td>2535</td>\n",
       "      <td>5</td>\n",
       "      <td>11</td>\n",
       "      <td>18</td>\n",
       "    </tr>\n",
       "    <tr>\n",
       "      <th>1503399</th>\n",
       "      <td>4</td>\n",
       "      <td>317</td>\n",
       "      <td>8</td>\n",
       "      <td>16</td>\n",
       "      <td>161</td>\n",
       "      <td>107</td>\n",
       "      <td>1162</td>\n",
       "      <td>300.0</td>\n",
       "      <td>2</td>\n",
       "      <td>11</td>\n",
       "      <td>1</td>\n",
       "      <td>1431</td>\n",
       "      <td>6</td>\n",
       "      <td>12</td>\n",
       "      <td>26</td>\n",
       "    </tr>\n",
       "    <tr>\n",
       "      <th>1503400</th>\n",
       "      <td>5</td>\n",
       "      <td>996</td>\n",
       "      <td>0</td>\n",
       "      <td>44</td>\n",
       "      <td>166</td>\n",
       "      <td>194</td>\n",
       "      <td>1162</td>\n",
       "      <td>400.0</td>\n",
       "      <td>12</td>\n",
       "      <td>5</td>\n",
       "      <td>1</td>\n",
       "      <td>2059</td>\n",
       "      <td>0</td>\n",
       "      <td>12</td>\n",
       "      <td>20</td>\n",
       "    </tr>\n",
       "    <tr>\n",
       "      <th>1503401</th>\n",
       "      <td>25</td>\n",
       "      <td>962</td>\n",
       "      <td>4</td>\n",
       "      <td>10</td>\n",
       "      <td>105</td>\n",
       "      <td>116</td>\n",
       "      <td>203</td>\n",
       "      <td>250.0</td>\n",
       "      <td>6</td>\n",
       "      <td>11</td>\n",
       "      <td>1</td>\n",
       "      <td>202</td>\n",
       "      <td>6</td>\n",
       "      <td>12</td>\n",
       "      <td>26</td>\n",
       "    </tr>\n",
       "    <tr>\n",
       "      <th>1503402</th>\n",
       "      <td>17</td>\n",
       "      <td>1300</td>\n",
       "      <td>6</td>\n",
       "      <td>0</td>\n",
       "      <td>278</td>\n",
       "      <td>16</td>\n",
       "      <td>79</td>\n",
       "      <td>720000.0</td>\n",
       "      <td>61</td>\n",
       "      <td>5</td>\n",
       "      <td>1</td>\n",
       "      <td>134</td>\n",
       "      <td>0</td>\n",
       "      <td>12</td>\n",
       "      <td>20</td>\n",
       "    </tr>\n",
       "    <tr>\n",
       "      <th>1503403</th>\n",
       "      <td>11</td>\n",
       "      <td>975</td>\n",
       "      <td>4</td>\n",
       "      <td>10</td>\n",
       "      <td>105</td>\n",
       "      <td>193</td>\n",
       "      <td>204</td>\n",
       "      <td>500.0</td>\n",
       "      <td>23</td>\n",
       "      <td>5</td>\n",
       "      <td>1</td>\n",
       "      <td>2985</td>\n",
       "      <td>0</td>\n",
       "      <td>12</td>\n",
       "      <td>20</td>\n",
       "    </tr>\n",
       "    <tr>\n",
       "      <th>1503404</th>\n",
       "      <td>17</td>\n",
       "      <td>1300</td>\n",
       "      <td>6</td>\n",
       "      <td>0</td>\n",
       "      <td>278</td>\n",
       "      <td>75</td>\n",
       "      <td>695</td>\n",
       "      <td>1300000.0</td>\n",
       "      <td>1</td>\n",
       "      <td>13</td>\n",
       "      <td>1</td>\n",
       "      <td>64</td>\n",
       "      <td>1</td>\n",
       "      <td>13</td>\n",
       "      <td>28</td>\n",
       "    </tr>\n",
       "    <tr>\n",
       "      <th>1503405</th>\n",
       "      <td>7</td>\n",
       "      <td>592</td>\n",
       "      <td>4</td>\n",
       "      <td>42</td>\n",
       "      <td>100</td>\n",
       "      <td>107</td>\n",
       "      <td>1162</td>\n",
       "      <td>3000.0</td>\n",
       "      <td>39</td>\n",
       "      <td>11</td>\n",
       "      <td>1</td>\n",
       "      <td>2865</td>\n",
       "      <td>6</td>\n",
       "      <td>12</td>\n",
       "      <td>26</td>\n",
       "    </tr>\n",
       "    <tr>\n",
       "      <th>1503406</th>\n",
       "      <td>9</td>\n",
       "      <td>1606</td>\n",
       "      <td>2</td>\n",
       "      <td>38</td>\n",
       "      <td>281</td>\n",
       "      <td>107</td>\n",
       "      <td>1162</td>\n",
       "      <td>3000.0</td>\n",
       "      <td>259</td>\n",
       "      <td>1</td>\n",
       "      <td>1</td>\n",
       "      <td>389</td>\n",
       "      <td>3</td>\n",
       "      <td>11</td>\n",
       "      <td>16</td>\n",
       "    </tr>\n",
       "    <tr>\n",
       "      <th>1503407</th>\n",
       "      <td>19</td>\n",
       "      <td>460</td>\n",
       "      <td>4</td>\n",
       "      <td>10</td>\n",
       "      <td>110</td>\n",
       "      <td>122</td>\n",
       "      <td>185</td>\n",
       "      <td>300.0</td>\n",
       "      <td>33</td>\n",
       "      <td>4</td>\n",
       "      <td>1</td>\n",
       "      <td>2542</td>\n",
       "      <td>6</td>\n",
       "      <td>11</td>\n",
       "      <td>19</td>\n",
       "    </tr>\n",
       "    <tr>\n",
       "      <th>1503408</th>\n",
       "      <td>18</td>\n",
       "      <td>1305</td>\n",
       "      <td>5</td>\n",
       "      <td>18</td>\n",
       "      <td>258</td>\n",
       "      <td>197</td>\n",
       "      <td>1162</td>\n",
       "      <td>1600000.0</td>\n",
       "      <td>24</td>\n",
       "      <td>5</td>\n",
       "      <td>0</td>\n",
       "      <td>1360</td>\n",
       "      <td>0</td>\n",
       "      <td>12</td>\n",
       "      <td>20</td>\n",
       "    </tr>\n",
       "    <tr>\n",
       "      <th>1503409</th>\n",
       "      <td>5</td>\n",
       "      <td>329</td>\n",
       "      <td>4</td>\n",
       "      <td>10</td>\n",
       "      <td>105</td>\n",
       "      <td>203</td>\n",
       "      <td>203</td>\n",
       "      <td>480.0</td>\n",
       "      <td>145</td>\n",
       "      <td>7</td>\n",
       "      <td>0</td>\n",
       "      <td>302</td>\n",
       "      <td>2</td>\n",
       "      <td>12</td>\n",
       "      <td>22</td>\n",
       "    </tr>\n",
       "    <tr>\n",
       "      <th>1503410</th>\n",
       "      <td>9</td>\n",
       "      <td>1042</td>\n",
       "      <td>4</td>\n",
       "      <td>29</td>\n",
       "      <td>126</td>\n",
       "      <td>203</td>\n",
       "      <td>143</td>\n",
       "      <td>3000.0</td>\n",
       "      <td>26</td>\n",
       "      <td>7</td>\n",
       "      <td>1</td>\n",
       "      <td>2383</td>\n",
       "      <td>2</td>\n",
       "      <td>12</td>\n",
       "      <td>22</td>\n",
       "    </tr>\n",
       "    <tr>\n",
       "      <th>1503411</th>\n",
       "      <td>0</td>\n",
       "      <td>1001</td>\n",
       "      <td>4</td>\n",
       "      <td>29</td>\n",
       "      <td>126</td>\n",
       "      <td>251</td>\n",
       "      <td>138</td>\n",
       "      <td>150.0</td>\n",
       "      <td>17</td>\n",
       "      <td>11</td>\n",
       "      <td>1</td>\n",
       "      <td>2609</td>\n",
       "      <td>6</td>\n",
       "      <td>12</td>\n",
       "      <td>26</td>\n",
       "    </tr>\n",
       "    <tr>\n",
       "      <th>1503412</th>\n",
       "      <td>10</td>\n",
       "      <td>743</td>\n",
       "      <td>8</td>\n",
       "      <td>17</td>\n",
       "      <td>92</td>\n",
       "      <td>107</td>\n",
       "      <td>1162</td>\n",
       "      <td>150.0</td>\n",
       "      <td>78</td>\n",
       "      <td>6</td>\n",
       "      <td>0</td>\n",
       "      <td>1561</td>\n",
       "      <td>1</td>\n",
       "      <td>12</td>\n",
       "      <td>21</td>\n",
       "    </tr>\n",
       "    <tr>\n",
       "      <th>1503413</th>\n",
       "      <td>25</td>\n",
       "      <td>673</td>\n",
       "      <td>4</td>\n",
       "      <td>42</td>\n",
       "      <td>102</td>\n",
       "      <td>107</td>\n",
       "      <td>1162</td>\n",
       "      <td>8000.0</td>\n",
       "      <td>77</td>\n",
       "      <td>1</td>\n",
       "      <td>1</td>\n",
       "      <td>1487</td>\n",
       "      <td>3</td>\n",
       "      <td>11</td>\n",
       "      <td>16</td>\n",
       "    </tr>\n",
       "    <tr>\n",
       "      <th>1503414</th>\n",
       "      <td>0</td>\n",
       "      <td>168</td>\n",
       "      <td>2</td>\n",
       "      <td>22</td>\n",
       "      <td>174</td>\n",
       "      <td>107</td>\n",
       "      <td>1162</td>\n",
       "      <td>7000.0</td>\n",
       "      <td>8</td>\n",
       "      <td>9</td>\n",
       "      <td>1</td>\n",
       "      <td>494</td>\n",
       "      <td>4</td>\n",
       "      <td>12</td>\n",
       "      <td>24</td>\n",
       "    </tr>\n",
       "    <tr>\n",
       "      <th>1503415</th>\n",
       "      <td>26</td>\n",
       "      <td>692</td>\n",
       "      <td>5</td>\n",
       "      <td>15</td>\n",
       "      <td>258</td>\n",
       "      <td>1</td>\n",
       "      <td>1174</td>\n",
       "      <td>1850000.0</td>\n",
       "      <td>6</td>\n",
       "      <td>0</td>\n",
       "      <td>1</td>\n",
       "      <td>1360</td>\n",
       "      <td>2</td>\n",
       "      <td>11</td>\n",
       "      <td>15</td>\n",
       "    </tr>\n",
       "    <tr>\n",
       "      <th>1503416</th>\n",
       "      <td>22</td>\n",
       "      <td>1526</td>\n",
       "      <td>4</td>\n",
       "      <td>29</td>\n",
       "      <td>126</td>\n",
       "      <td>193</td>\n",
       "      <td>116</td>\n",
       "      <td>200.0</td>\n",
       "      <td>89</td>\n",
       "      <td>9</td>\n",
       "      <td>1</td>\n",
       "      <td>2502</td>\n",
       "      <td>4</td>\n",
       "      <td>12</td>\n",
       "      <td>24</td>\n",
       "    </tr>\n",
       "    <tr>\n",
       "      <th>1503417</th>\n",
       "      <td>20</td>\n",
       "      <td>1398</td>\n",
       "      <td>6</td>\n",
       "      <td>0</td>\n",
       "      <td>278</td>\n",
       "      <td>119</td>\n",
       "      <td>48</td>\n",
       "      <td>160000.0</td>\n",
       "      <td>13</td>\n",
       "      <td>12</td>\n",
       "      <td>1</td>\n",
       "      <td>1407</td>\n",
       "      <td>0</td>\n",
       "      <td>13</td>\n",
       "      <td>27</td>\n",
       "    </tr>\n",
       "    <tr>\n",
       "      <th>1503418</th>\n",
       "      <td>14</td>\n",
       "      <td>1107</td>\n",
       "      <td>4</td>\n",
       "      <td>29</td>\n",
       "      <td>126</td>\n",
       "      <td>203</td>\n",
       "      <td>152</td>\n",
       "      <td>500.0</td>\n",
       "      <td>10</td>\n",
       "      <td>2</td>\n",
       "      <td>1</td>\n",
       "      <td>2383</td>\n",
       "      <td>4</td>\n",
       "      <td>11</td>\n",
       "      <td>17</td>\n",
       "    </tr>\n",
       "    <tr>\n",
       "      <th>1503419</th>\n",
       "      <td>15</td>\n",
       "      <td>1153</td>\n",
       "      <td>4</td>\n",
       "      <td>10</td>\n",
       "      <td>105</td>\n",
       "      <td>193</td>\n",
       "      <td>71</td>\n",
       "      <td>300.0</td>\n",
       "      <td>7</td>\n",
       "      <td>5</td>\n",
       "      <td>1</td>\n",
       "      <td>2929</td>\n",
       "      <td>0</td>\n",
       "      <td>12</td>\n",
       "      <td>20</td>\n",
       "    </tr>\n",
       "    <tr>\n",
       "      <th>1503420</th>\n",
       "      <td>9</td>\n",
       "      <td>723</td>\n",
       "      <td>7</td>\n",
       "      <td>34</td>\n",
       "      <td>269</td>\n",
       "      <td>222</td>\n",
       "      <td>1162</td>\n",
       "      <td>200.0</td>\n",
       "      <td>1</td>\n",
       "      <td>13</td>\n",
       "      <td>1</td>\n",
       "      <td>215</td>\n",
       "      <td>1</td>\n",
       "      <td>13</td>\n",
       "      <td>28</td>\n",
       "    </tr>\n",
       "    <tr>\n",
       "      <th>1503421</th>\n",
       "      <td>1</td>\n",
       "      <td>137</td>\n",
       "      <td>5</td>\n",
       "      <td>15</td>\n",
       "      <td>258</td>\n",
       "      <td>3</td>\n",
       "      <td>1174</td>\n",
       "      <td>NaN</td>\n",
       "      <td>50</td>\n",
       "      <td>6</td>\n",
       "      <td>0</td>\n",
       "      <td>228</td>\n",
       "      <td>1</td>\n",
       "      <td>12</td>\n",
       "      <td>21</td>\n",
       "    </tr>\n",
       "    <tr>\n",
       "      <th>1503422</th>\n",
       "      <td>15</td>\n",
       "      <td>155</td>\n",
       "      <td>4</td>\n",
       "      <td>10</td>\n",
       "      <td>105</td>\n",
       "      <td>193</td>\n",
       "      <td>72</td>\n",
       "      <td>350.0</td>\n",
       "      <td>33</td>\n",
       "      <td>7</td>\n",
       "      <td>1</td>\n",
       "      <td>2918</td>\n",
       "      <td>2</td>\n",
       "      <td>12</td>\n",
       "      <td>22</td>\n",
       "    </tr>\n",
       "    <tr>\n",
       "      <th>1503423</th>\n",
       "      <td>9</td>\n",
       "      <td>47</td>\n",
       "      <td>4</td>\n",
       "      <td>42</td>\n",
       "      <td>134</td>\n",
       "      <td>107</td>\n",
       "      <td>1162</td>\n",
       "      <td>1500.0</td>\n",
       "      <td>18</td>\n",
       "      <td>6</td>\n",
       "      <td>1</td>\n",
       "      <td>3039</td>\n",
       "      <td>1</td>\n",
       "      <td>12</td>\n",
       "      <td>21</td>\n",
       "    </tr>\n",
       "  </tbody>\n",
       "</table>\n",
       "<p>1503424 rows × 15 columns</p>\n",
       "</div>"
      ],
      "text/plain": [
       "         region  city  parent_category_name  category_name  param_1  param_2  \\\n",
       "0            19   460                     4             42      249      107   \n",
       "1            17  1300                     2             22      122      107   \n",
       "2            16  1276                     0              2       84      107   \n",
       "3            21   940                     4             42       38      107   \n",
       "4             4   317                     6              0      278      119   \n",
       "5            21  1657                     4             42       38      107   \n",
       "6            11   975                     2             38      283      107   \n",
       "7            15  1153                     4             29      126      136   \n",
       "8            14  1107                     4             29      126      203   \n",
       "9            11   975                     4             10      105      193   \n",
       "10           25  1602                     5             15      284      188   \n",
       "11           23   495                     4             29      126      136   \n",
       "12           14  1107                     4             42      325      107   \n",
       "13           16  1276                     0             44      201      107   \n",
       "14            1  1525                     3             39      214      107   \n",
       "15           21   585                     4             29      126      203   \n",
       "16            9   723                     6              0      278       26   \n",
       "17           12  1048                     4             42      134      107   \n",
       "18           13   923                     4             29      126      122   \n",
       "19            2   136                     5             11      297      167   \n",
       "20           12   150                     5             15      258        1   \n",
       "21           19   460                     4             29      126      122   \n",
       "22           26   857                     6              0      278       40   \n",
       "23           16  1276                     4             10      105      193   \n",
       "24           11   975                     3             43       32      107   \n",
       "25            5   329                     4             42      134      107   \n",
       "26           17  1507                     2             22      317      107   \n",
       "27            8  1023                     4             29      126      193   \n",
       "28           18  1305                     4             29      126      203   \n",
       "29           11   975                     4             10      110      142   \n",
       "...         ...   ...                   ...            ...      ...      ...   \n",
       "1503394      16  1276                     2             22      359      107   \n",
       "1503395       6   231                     6             23       79      107   \n",
       "1503396      22   652                     8             24      240      107   \n",
       "1503397      27  1724                     4             29      126      122   \n",
       "1503398      10   743                     4             29      126      122   \n",
       "1503399       4   317                     8             16      161      107   \n",
       "1503400       5   996                     0             44      166      194   \n",
       "1503401      25   962                     4             10      105      116   \n",
       "1503402      17  1300                     6              0      278       16   \n",
       "1503403      11   975                     4             10      105      193   \n",
       "1503404      17  1300                     6              0      278       75   \n",
       "1503405       7   592                     4             42      100      107   \n",
       "1503406       9  1606                     2             38      281      107   \n",
       "1503407      19   460                     4             10      110      122   \n",
       "1503408      18  1305                     5             18      258      197   \n",
       "1503409       5   329                     4             10      105      203   \n",
       "1503410       9  1042                     4             29      126      203   \n",
       "1503411       0  1001                     4             29      126      251   \n",
       "1503412      10   743                     8             17       92      107   \n",
       "1503413      25   673                     4             42      102      107   \n",
       "1503414       0   168                     2             22      174      107   \n",
       "1503415      26   692                     5             15      258        1   \n",
       "1503416      22  1526                     4             29      126      193   \n",
       "1503417      20  1398                     6              0      278      119   \n",
       "1503418      14  1107                     4             29      126      203   \n",
       "1503419      15  1153                     4             10      105      193   \n",
       "1503420       9   723                     7             34      269      222   \n",
       "1503421       1   137                     5             15      258        3   \n",
       "1503422      15   155                     4             10      105      193   \n",
       "1503423       9    47                     4             42      134      107   \n",
       "\n",
       "         param_3      price  item_seq_number  activation_date  user_type  \\\n",
       "0           1162      400.0                2               13          1   \n",
       "1           1162     3000.0               19               11          1   \n",
       "2           1162     4000.0                9                5          1   \n",
       "3           1162     2200.0              286               10          0   \n",
       "4             44    40000.0                3                1          1   \n",
       "5           1162     1300.0                9               13          1   \n",
       "6           1162    11000.0              125                8          1   \n",
       "7             71      500.0               61               10          1   \n",
       "8            212      500.0               85                2          1   \n",
       "9             70      400.0              136                7          0   \n",
       "10             0    18000.0                6               10          1   \n",
       "11          1170        1.0                4                4          2   \n",
       "12          1162       70.0               15                6          1   \n",
       "13          1162     2500.0               47                7          1   \n",
       "14          1162     5000.0                6                8          1   \n",
       "15           138      800.0               86               12          1   \n",
       "16           668   140000.0              201                3          0   \n",
       "17          1162      500.0                9                5          1   \n",
       "18           143     1000.0                4                9          1   \n",
       "19          1202   100000.0                5               13          1   \n",
       "20          1174  1748000.0              461                2          0   \n",
       "21           212     2600.0               33                1          1   \n",
       "22           526   249000.0               12                5          1   \n",
       "23            70     1300.0               59                5          1   \n",
       "24          1162        NaN              310                1          0   \n",
       "25          1162     1500.0              309                9          0   \n",
       "26          1162     1000.0               59               11          1   \n",
       "27           114     1500.0                8               12          1   \n",
       "28           149     1000.0               12               10          1   \n",
       "29          1162      200.0               20                4          1   \n",
       "...          ...        ...              ...              ...        ...   \n",
       "1503394     1162     2000.0                5                1          1   \n",
       "1503395     1162    20000.0               41               13          0   \n",
       "1503396     1162        NaN               32                6          1   \n",
       "1503397      143      450.0               36                5          1   \n",
       "1503398      143      500.0                8                3          1   \n",
       "1503399     1162      300.0                2               11          1   \n",
       "1503400     1162      400.0               12                5          1   \n",
       "1503401      203      250.0                6               11          1   \n",
       "1503402       79   720000.0               61                5          1   \n",
       "1503403      204      500.0               23                5          1   \n",
       "1503404      695  1300000.0                1               13          1   \n",
       "1503405     1162     3000.0               39               11          1   \n",
       "1503406     1162     3000.0              259                1          1   \n",
       "1503407      185      300.0               33                4          1   \n",
       "1503408     1162  1600000.0               24                5          0   \n",
       "1503409      203      480.0              145                7          0   \n",
       "1503410      143     3000.0               26                7          1   \n",
       "1503411      138      150.0               17               11          1   \n",
       "1503412     1162      150.0               78                6          0   \n",
       "1503413     1162     8000.0               77                1          1   \n",
       "1503414     1162     7000.0                8                9          1   \n",
       "1503415     1174  1850000.0                6                0          1   \n",
       "1503416      116      200.0               89                9          1   \n",
       "1503417       48   160000.0               13               12          1   \n",
       "1503418      152      500.0               10                2          1   \n",
       "1503419       71      300.0                7                5          1   \n",
       "1503420     1162      200.0                1               13          1   \n",
       "1503421     1174        NaN               50                6          0   \n",
       "1503422       72      350.0               33                7          1   \n",
       "1503423     1162     1500.0               18                6          1   \n",
       "\n",
       "         image_top_1  Weekday  Weekend_no  day  \n",
       "0                 12        1          13   28  \n",
       "1               2721        6          12   26  \n",
       "2               2259        0          12   20  \n",
       "3               2836        5          12   25  \n",
       "4               1407        3          11   16  \n",
       "5               2836        1          13   28  \n",
       "6               2026        3          12   23  \n",
       "7               2583        5          12   25  \n",
       "8               2415        4          11   17  \n",
       "9               2464        2          12   22  \n",
       "10               442        5          12   25  \n",
       "11               213        6          11   19  \n",
       "12                48        1          12   21  \n",
       "13              2054        2          12   22  \n",
       "14              1262        3          12   23  \n",
       "15              2407        0          13   27  \n",
       "16               134        5          11   18  \n",
       "17              3044        0          12   20  \n",
       "18              3007        4          12   24  \n",
       "19              3062        1          13   28  \n",
       "20              1127        4          11   17  \n",
       "21              3062        3          11   16  \n",
       "22              1407        0          12   20  \n",
       "23              2918        0          12   20  \n",
       "24              2889        3          11   16  \n",
       "25              3015        4          12   24  \n",
       "26               470        6          12   26  \n",
       "27              2438        0          13   27  \n",
       "28              2639        5          12   25  \n",
       "29              2652        6          11   19  \n",
       "...              ...      ...         ...  ...  \n",
       "1503394          514        3          11   16  \n",
       "1503395          161        1          13   28  \n",
       "1503396         1685        1          12   21  \n",
       "1503397         2585        0          12   20  \n",
       "1503398         2535        5          11   18  \n",
       "1503399         1431        6          12   26  \n",
       "1503400         2059        0          12   20  \n",
       "1503401          202        6          12   26  \n",
       "1503402          134        0          12   20  \n",
       "1503403         2985        0          12   20  \n",
       "1503404           64        1          13   28  \n",
       "1503405         2865        6          12   26  \n",
       "1503406          389        3          11   16  \n",
       "1503407         2542        6          11   19  \n",
       "1503408         1360        0          12   20  \n",
       "1503409          302        2          12   22  \n",
       "1503410         2383        2          12   22  \n",
       "1503411         2609        6          12   26  \n",
       "1503412         1561        1          12   21  \n",
       "1503413         1487        3          11   16  \n",
       "1503414          494        4          12   24  \n",
       "1503415         1360        2          11   15  \n",
       "1503416         2502        4          12   24  \n",
       "1503417         1407        0          13   27  \n",
       "1503418         2383        4          11   17  \n",
       "1503419         2929        0          12   20  \n",
       "1503420          215        1          13   28  \n",
       "1503421          228        1          12   21  \n",
       "1503422         2918        2          12   22  \n",
       "1503423         3039        1          12   21  \n",
       "\n",
       "[1503424 rows x 15 columns]"
      ]
     },
     "execution_count": 13,
     "metadata": {},
     "output_type": "execute_result"
    }
   ],
   "source": [
    "clean_train.drop('deal_probability', axis=1)"
   ]
  },
  {
   "cell_type": "code",
   "execution_count": 15,
   "metadata": {},
   "outputs": [
    {
     "data": {
      "text/plain": [
       "(1503424, 16)"
      ]
     },
     "execution_count": 15,
     "metadata": {},
     "output_type": "execute_result"
    }
   ],
   "source": [
    "trainX=clean_train\n",
    "trainX.shape"
   ]
  },
  {
   "cell_type": "markdown",
   "metadata": {},
   "source": [
    "# repeat cleaning with test"
   ]
  },
  {
   "cell_type": "code",
   "execution_count": 46,
   "metadata": {},
   "outputs": [],
   "source": [
    "#new variables"
   ]
  },
  {
   "cell_type": "code",
   "execution_count": 16,
   "metadata": {},
   "outputs": [],
   "source": [
    "from sklearn import preprocessing\n",
    "\n",
    "le = preprocessing.LabelEncoder()\n",
    "data2=clean_test\n",
    "\n",
    "r22=le.fit_transform(data2['region'].astype(str))\n",
    "r32=le.fit_transform(data2['city'].astype(str))\n",
    "r42=le.fit_transform(data2['parent_category_name'].astype(str))\n",
    "r52=le.fit_transform(data2['category_name'].astype(str))\n",
    "r62=le.fit_transform(data2['param_1'].astype(str))\n",
    "r72=le.fit_transform(data2['param_2'].astype(str))\n",
    "r82=le.fit_transform(data2['param_3'].astype(str))\n",
    "#r8=le.fit_transform(data['price'].astype(str))\n",
    "#r9=le.fit_transform(data['item_seq_number'].astype(str))\n",
    "r92=le.fit_transform(data2['activation_date'].astype(str))\n",
    "r102=le.fit_transform(data2['user_type'].astype(str))\n",
    "r112=le.fit_transform(data2['image_top_1'].astype(str))"
   ]
  },
  {
   "cell_type": "code",
   "execution_count": 17,
   "metadata": {},
   "outputs": [],
   "source": [
    "clean_test['region']=r22\n",
    "clean_test['city']=r32\n",
    "clean_test['parent_category_name']=r42\n",
    "clean_test['category_name']=r52\n",
    "clean_test['param_1']=r62\n",
    "clean_test['param_2']=r72\n",
    "clean_test['param_3']=r82\n",
    "clean_test['activation_date']=r92\n",
    "clean_test['user_type']=r102\n",
    "clean_test['image_top_1']=r112"
   ]
  },
  {
   "cell_type": "code",
   "execution_count": 18,
   "metadata": {},
   "outputs": [
    {
     "data": {
      "text/plain": [
       "region                    int64\n",
       "city                      int64\n",
       "parent_category_name      int64\n",
       "category_name             int64\n",
       "param_1                   int64\n",
       "param_2                   int64\n",
       "param_3                   int64\n",
       "price                   float64\n",
       "item_seq_number           int64\n",
       "activation_date           int64\n",
       "user_type                 int64\n",
       "image_top_1               int64\n",
       "Weekday                   int64\n",
       "Weekend_no                int64\n",
       "day                       int64\n",
       "dtype: object"
      ]
     },
     "execution_count": 18,
     "metadata": {},
     "output_type": "execute_result"
    }
   ],
   "source": [
    "clean_test.dtypes"
   ]
  },
  {
   "cell_type": "code",
   "execution_count": 20,
   "metadata": {},
   "outputs": [],
   "source": [
    "testX=clean_test"
   ]
  },
  {
   "cell_type": "markdown",
   "metadata": {},
   "source": [
    "# handle missing data"
   ]
  },
  {
   "cell_type": "code",
   "execution_count": 21,
   "metadata": {},
   "outputs": [
    {
     "data": {
      "text/plain": [
       "region                      0\n",
       "city                        0\n",
       "parent_category_name        0\n",
       "category_name               0\n",
       "param_1                     0\n",
       "param_2                     0\n",
       "param_3                     0\n",
       "price                   85362\n",
       "item_seq_number             0\n",
       "activation_date             0\n",
       "user_type                   0\n",
       "image_top_1                 0\n",
       "deal_probability            0\n",
       "Weekday                     0\n",
       "Weekend_no                  0\n",
       "day                         0\n",
       "dtype: int64"
      ]
     },
     "execution_count": 21,
     "metadata": {},
     "output_type": "execute_result"
    }
   ],
   "source": [
    "trainX.isnull().sum()"
   ]
  },
  {
   "cell_type": "code",
   "execution_count": 22,
   "metadata": {},
   "outputs": [
    {
     "data": {
      "text/plain": [
       "deal_probability    0\n",
       "dtype: int64"
      ]
     },
     "execution_count": 22,
     "metadata": {},
     "output_type": "execute_result"
    }
   ],
   "source": [
    "trainY.isnull().sum()"
   ]
  },
  {
   "cell_type": "code",
   "execution_count": 23,
   "metadata": {},
   "outputs": [],
   "source": [
    "from sklearn.preprocessing import Imputer\n",
    "\n",
    "mean_imputer = Imputer(missing_values='NaN', strategy='mean', axis=0)\n",
    "mean_imputer = mean_imputer.fit(trainX)\n",
    "X_train= mean_imputer.transform(trainX.values)\n",
    "xtrain=pd.DataFrame(X_train)\n",
    "xtrain.columns=['region ','city','parent_category_name','category_name', 'param_1','param_2', 'param_3', 'price', \n",
    "                'item_seq_number', 'activation_date','user_type','image_top_1', 'deal_probability', 'weekday', 'weekend_no',\n",
    "               'day']"
   ]
  },
  {
   "cell_type": "code",
   "execution_count": 24,
   "metadata": {},
   "outputs": [
    {
     "data": {
      "text/plain": [
       "region                  0\n",
       "city                    0\n",
       "parent_category_name    0\n",
       "category_name           0\n",
       "param_1                 0\n",
       "param_2                 0\n",
       "param_3                 0\n",
       "price                   0\n",
       "item_seq_number         0\n",
       "activation_date         0\n",
       "user_type               0\n",
       "image_top_1             0\n",
       "deal_probability        0\n",
       "weekday                 0\n",
       "weekend_no              0\n",
       "day                     0\n",
       "dtype: int64"
      ]
     },
     "execution_count": 24,
     "metadata": {},
     "output_type": "execute_result"
    }
   ],
   "source": [
    "xtrain.isnull().sum()"
   ]
  },
  {
   "cell_type": "code",
   "execution_count": 25,
   "metadata": {},
   "outputs": [],
   "source": [
    "from sklearn.preprocessing import Imputer\n",
    "\n",
    "mean_imputer = Imputer(missing_values='NaN', strategy='mean', axis=0)\n",
    "mean_imputer = mean_imputer.fit(testX)\n",
    "X_test= mean_imputer.transform(testX.values)\n",
    "xtest=pd.DataFrame(X_train)\n",
    "xtest.columns=['region ','city','parent_category_name','category_name', 'param_1','param_2', 'param_3', 'price', \n",
    "                'item_seq_number', 'activation_date','user_type','image_top_1', 'deal_probability', 'weekday', 'weekend_no',\n",
    "               'day']"
   ]
  },
  {
   "cell_type": "code",
   "execution_count": 26,
   "metadata": {},
   "outputs": [
    {
     "data": {
      "text/plain": [
       "region                  0\n",
       "city                    0\n",
       "parent_category_name    0\n",
       "category_name           0\n",
       "param_1                 0\n",
       "param_2                 0\n",
       "param_3                 0\n",
       "price                   0\n",
       "item_seq_number         0\n",
       "activation_date         0\n",
       "user_type               0\n",
       "image_top_1             0\n",
       "deal_probability        0\n",
       "weekday                 0\n",
       "weekend_no              0\n",
       "day                     0\n",
       "dtype: int64"
      ]
     },
     "execution_count": 26,
     "metadata": {},
     "output_type": "execute_result"
    }
   ],
   "source": [
    "xtest.isnull().sum()"
   ]
  },
  {
   "cell_type": "markdown",
   "metadata": {},
   "source": [
    "# fit model"
   ]
  },
  {
   "cell_type": "code",
   "execution_count": 26,
   "metadata": {},
   "outputs": [
    {
     "name": "stdout",
     "output_type": "stream",
     "text": [
      "Wall time: 3min 20s\n"
     ]
    }
   ],
   "source": [
    "%%time\n",
    "from sklearn.linear_model import LogisticRegression\n",
    "\n",
    "logreg=LogisticRegression()\n",
    "\n",
    "X=xtrain.iloc[:8000, :]\n",
    "Y=trainY.iloc[:8000]\n",
    "logreg.fit(X, Y)"
   ]
  },
  {
   "cell_type": "code",
   "execution_count": 30,
   "metadata": {},
   "outputs": [
    {
     "name": "stderr",
     "output_type": "stream",
     "text": [
      "C:\\Users\\Kathakali\\Anaconda3\\lib\\site-packages\\sklearn\\utils\\validation.py:578: DataConversionWarning: A column-vector y was passed when a 1d array was expected. Please change the shape of y to (n_samples, ), for example using ravel().\n",
      "  y = column_or_1d(y, warn=True)\n"
     ]
    },
    {
     "name": "stdout",
     "output_type": "stream",
     "text": [
      "Wall time: 5min 51s\n"
     ]
    }
   ],
   "source": [
    "%%time\n",
    "from sklearn.linear_model import LogisticRegression\n",
    "\n",
    "logreg=LogisticRegression()\n",
    "\n",
    "X=xtrain.iloc[:10000, :]\n",
    "Y=trainY.iloc[:10000]\n",
    "logreg.fit(X, Y)"
   ]
  },
  {
   "cell_type": "code",
   "execution_count": 33,
   "metadata": {},
   "outputs": [
    {
     "name": "stderr",
     "output_type": "stream",
     "text": [
      "C:\\Users\\Kathakali\\Anaconda3\\lib\\site-packages\\sklearn\\utils\\validation.py:578: DataConversionWarning: A column-vector y was passed when a 1d array was expected. Please change the shape of y to (n_samples, ), for example using ravel().\n",
      "  y = column_or_1d(y, warn=True)\n"
     ]
    },
    {
     "name": "stdout",
     "output_type": "stream",
     "text": [
      "Wall time: 9min 3s\n"
     ]
    }
   ],
   "source": [
    "%%time\n",
    "from sklearn.linear_model import LogisticRegression\n",
    "\n",
    "logreg=LogisticRegression()\n",
    "\n",
    "X=xtrain.iloc[:12000, :]\n",
    "Y=trainY.iloc[:12000]\n",
    "logreg.fit(X, Y)"
   ]
  },
  {
   "cell_type": "code",
   "execution_count": null,
   "metadata": {},
   "outputs": [],
   "source": [
    "####not working with this volume\n",
    "%%time\n",
    "from sklearn.linear_model import LogisticRegression\n",
    "\n",
    "logreg=LogisticRegression()\n",
    "\n",
    "X=xtrain.iloc[:20000, :]\n",
    "Y=trainY.iloc[:20000]\n",
    "logreg.fit(X, Y)"
   ]
  },
  {
   "cell_type": "code",
   "execution_count": 29,
   "metadata": {},
   "outputs": [
    {
     "name": "stdout",
     "output_type": "stream",
     "text": [
      "Wall time: 172 ms\n"
     ]
    }
   ],
   "source": [
    "%%time\n",
    "\n",
    "x=xtest.iloc[:8000, :]\n",
    "y= logreg.predict(x)"
   ]
  },
  {
   "cell_type": "code",
   "execution_count": 31,
   "metadata": {},
   "outputs": [
    {
     "name": "stdout",
     "output_type": "stream",
     "text": [
      "Wall time: 266 ms\n"
     ]
    }
   ],
   "source": [
    "%%time\n",
    "\n",
    "x=xtest.iloc[:10000, :]\n",
    "y= logreg.predict(x)"
   ]
  },
  {
   "cell_type": "code",
   "execution_count": 34,
   "metadata": {},
   "outputs": [
    {
     "name": "stdout",
     "output_type": "stream",
     "text": [
      "Wall time: 324 ms\n"
     ]
    }
   ],
   "source": [
    "%%time\n",
    "\n",
    "x=xtest.iloc[:12000, :]\n",
    "y= logreg.predict(x)"
   ]
  },
  {
   "cell_type": "code",
   "execution_count": 31,
   "metadata": {},
   "outputs": [
    {
     "name": "stdout",
     "output_type": "stream",
     "text": [
      " The test mse is: 0.08896974033108751\n",
      "The test accuracy with logistic regression is: 0.9110302596689125\n"
     ]
    }
   ],
   "source": [
    "from sklearn.metrics import mean_squared_error\n",
    "mse= mean_squared_error(Y, y)\n",
    "print (\" The test mse is:\", mse)\n",
    "print (\"The test accuracy with logistic regression is:\", (1-mse))"
   ]
  },
  {
   "cell_type": "code",
   "execution_count": 32,
   "metadata": {},
   "outputs": [
    {
     "name": "stdout",
     "output_type": "stream",
     "text": [
      " The test mse is: 0.0883918515311\n",
      "The test accuracy with logistic regression is: 0.9116081484689\n"
     ]
    }
   ],
   "source": [
    "from sklearn.metrics import mean_squared_error\n",
    "mse= mean_squared_error(Y, y)\n",
    "print (\" The test mse is:\", mse)\n",
    "print (\"The test accuracy with logistic regression is:\", (1-mse))"
   ]
  },
  {
   "cell_type": "code",
   "execution_count": 35,
   "metadata": {},
   "outputs": [
    {
     "name": "stdout",
     "output_type": "stream",
     "text": [
      " The test mse is: 0.087550110814825\n",
      "The test accuracy with logistic regression is: 0.912449889185175\n"
     ]
    }
   ],
   "source": [
    "from sklearn.metrics import mean_squared_error\n",
    "mse= mean_squared_error(Y, y)\n",
    "print (\" The test mse is:\", mse)\n",
    "print (\"The test accuracy with logistic regression is:\", (1-mse))"
   ]
  },
  {
   "cell_type": "markdown",
   "metadata": {},
   "source": [
    "# Abhinav"
   ]
  },
  {
   "cell_type": "code",
   "execution_count": null,
   "metadata": {},
   "outputs": [],
   "source": [
    "%%time\n",
    "from sklearn.linear_model import LogisticRegression\n",
    "\n",
    "logreg=LogisticRegression()\n",
    "\n",
    "#X=xtrain\n",
    "#Y=trainY\n",
    "X=xtrain.iloc[:50000, :]\n",
    "Y=trainY.iloc[:50000]\n",
    "logreg.fit(X, Y)\n"
   ]
  },
  {
   "cell_type": "code",
   "execution_count": null,
   "metadata": {},
   "outputs": [],
   "source": [
    "x=xtest.iloc[:50000,:]\n",
    "y=logreg.predict(x)\n",
    "from sklearn.metrics import mean_squared_error\n",
    "mse= mean_squared_error(Y, y)\n",
    "print (\" The test mse is:\", mse)\n",
    "print (\"The test accuracy is:\", (1-mse))"
   ]
  },
  {
   "cell_type": "markdown",
   "metadata": {},
   "source": [
    "# logregCv with l1 and l2 penalities - binary "
   ]
  },
  {
   "cell_type": "code",
   "execution_count": 32,
   "metadata": {},
   "outputs": [
    {
     "name": "stderr",
     "output_type": "stream",
     "text": [
      "C:\\Users\\Kathakali\\Anaconda3\\lib\\site-packages\\ipykernel_launcher.py:5: FutureWarning: convert_objects is deprecated.  To re-infer data dtypes for object columns, use Series.infer_objects()\n",
      "For all other conversions use the data-type specific converters pd.to_datetime, pd.to_timedelta and pd.to_numeric.\n",
      "  \"\"\"\n"
     ]
    }
   ],
   "source": [
    "Y=trainY.iloc[:8000]\n",
    "#print (Y)\n",
    "#print (type(Y))\n",
    "Y_train=Y\n",
    "Y1_tr= Y_train.convert_objects(convert_numeric=True)\n",
    "Y1=pd.DataFrame(Y1_tr)\n",
    "#print (type(Y1_tr))\n",
    "#print (Y1_tr.dtypes)\n",
    "#print (Y1_tr.index.values)"
   ]
  },
  {
   "cell_type": "code",
   "execution_count": 36,
   "metadata": {},
   "outputs": [
    {
     "name": "stderr",
     "output_type": "stream",
     "text": [
      "C:\\Users\\Kathakali\\Anaconda3\\lib\\site-packages\\ipykernel_launcher.py:5: FutureWarning: convert_objects is deprecated.  To re-infer data dtypes for object columns, use DataFrame.infer_objects()\n",
      "For all other conversions use the data-type specific converters pd.to_datetime, pd.to_timedelta and pd.to_numeric.\n",
      "  \"\"\"\n"
     ]
    }
   ],
   "source": [
    "Y=trainY.iloc[:12000]\n",
    "#print (Y)\n",
    "#print (type(Y))\n",
    "Y_train=Y\n",
    "Y1_tr= Y_train.convert_objects(convert_numeric=True)\n",
    "Y1=pd.DataFrame(Y1_tr)\n",
    "#print (type(Y1_tr))\n",
    "#print (Y1_tr.dtypes)\n",
    "#print (Y1_tr.index.values)"
   ]
  },
  {
   "cell_type": "code",
   "execution_count": 54,
   "metadata": {},
   "outputs": [
    {
     "name": "stdout",
     "output_type": "stream",
     "text": [
      "<class 'pandas.core.series.Series'>\n"
     ]
    },
    {
     "ename": "TypeError",
     "evalue": "'<=' not supported between instances of 'numpy.ndarray' and 'str'",
     "output_type": "error",
     "traceback": [
      "\u001b[1;31m---------------------------------------------------------------------------\u001b[0m",
      "\u001b[1;31mTypeError\u001b[0m                                 Traceback (most recent call last)",
      "\u001b[1;32m<ipython-input-54-1f500f20cc68>\u001b[0m in \u001b[0;36m<module>\u001b[1;34m()\u001b[0m\n\u001b[0;32m      5\u001b[0m \u001b[1;32mfor\u001b[0m \u001b[0midx\u001b[0m\u001b[1;33m,\u001b[0m\u001b[0mrow\u001b[0m \u001b[1;32min\u001b[0m \u001b[0mY1\u001b[0m\u001b[1;33m.\u001b[0m\u001b[0miterrows\u001b[0m\u001b[1;33m(\u001b[0m\u001b[1;33m)\u001b[0m\u001b[1;33m:\u001b[0m\u001b[1;33m\u001b[0m\u001b[0m\n\u001b[0;32m      6\u001b[0m \u001b[1;33m\u001b[0m\u001b[0m\n\u001b[1;32m----> 7\u001b[1;33m     \u001b[1;32mif\u001b[0m \u001b[1;33m(\u001b[0m\u001b[0mrow\u001b[0m\u001b[1;33m.\u001b[0m\u001b[0mdeal_probability\u001b[0m \u001b[1;33m<=\u001b[0m\u001b[0mAvg\u001b[0m\u001b[1;33m)\u001b[0m\u001b[1;33m:\u001b[0m\u001b[1;33m\u001b[0m\u001b[0m\n\u001b[0m\u001b[0;32m      8\u001b[0m         \u001b[1;31m#Y1.set_value(idx, 'class', 0)\u001b[0m\u001b[1;33m\u001b[0m\u001b[1;33m\u001b[0m\u001b[0m\n\u001b[0;32m      9\u001b[0m         \u001b[0mY1\u001b[0m\u001b[1;33m[\u001b[0m\u001b[1;34m'class'\u001b[0m\u001b[1;33m]\u001b[0m\u001b[1;33m=\u001b[0m\u001b[1;36m0\u001b[0m\u001b[1;33m\u001b[0m\u001b[0m\n",
      "\u001b[1;32m~\\Anaconda3\\lib\\site-packages\\pandas\\core\\ops.py\u001b[0m in \u001b[0;36mwrapper\u001b[1;34m(self, other, axis)\u001b[0m\n\u001b[0;32m   1281\u001b[0m \u001b[1;33m\u001b[0m\u001b[0m\n\u001b[0;32m   1282\u001b[0m             \u001b[1;32mwith\u001b[0m \u001b[0mnp\u001b[0m\u001b[1;33m.\u001b[0m\u001b[0merrstate\u001b[0m\u001b[1;33m(\u001b[0m\u001b[0mall\u001b[0m\u001b[1;33m=\u001b[0m\u001b[1;34m'ignore'\u001b[0m\u001b[1;33m)\u001b[0m\u001b[1;33m:\u001b[0m\u001b[1;33m\u001b[0m\u001b[0m\n\u001b[1;32m-> 1283\u001b[1;33m                 \u001b[0mres\u001b[0m \u001b[1;33m=\u001b[0m \u001b[0mna_op\u001b[0m\u001b[1;33m(\u001b[0m\u001b[0mvalues\u001b[0m\u001b[1;33m,\u001b[0m \u001b[0mother\u001b[0m\u001b[1;33m)\u001b[0m\u001b[1;33m\u001b[0m\u001b[0m\n\u001b[0m\u001b[0;32m   1284\u001b[0m             \u001b[1;32mif\u001b[0m \u001b[0mis_scalar\u001b[0m\u001b[1;33m(\u001b[0m\u001b[0mres\u001b[0m\u001b[1;33m)\u001b[0m\u001b[1;33m:\u001b[0m\u001b[1;33m\u001b[0m\u001b[0m\n\u001b[0;32m   1285\u001b[0m                 raise TypeError('Could not compare {typ} type with Series'\n",
      "\u001b[1;32m~\\Anaconda3\\lib\\site-packages\\pandas\\core\\ops.py\u001b[0m in \u001b[0;36mna_op\u001b[1;34m(x, y)\u001b[0m\n\u001b[0;32m   1141\u001b[0m \u001b[1;33m\u001b[0m\u001b[0m\n\u001b[0;32m   1142\u001b[0m         \u001b[1;32melif\u001b[0m \u001b[0mis_object_dtype\u001b[0m\u001b[1;33m(\u001b[0m\u001b[0mx\u001b[0m\u001b[1;33m.\u001b[0m\u001b[0mdtype\u001b[0m\u001b[1;33m)\u001b[0m\u001b[1;33m:\u001b[0m\u001b[1;33m\u001b[0m\u001b[0m\n\u001b[1;32m-> 1143\u001b[1;33m             \u001b[0mresult\u001b[0m \u001b[1;33m=\u001b[0m \u001b[0m_comp_method_OBJECT_ARRAY\u001b[0m\u001b[1;33m(\u001b[0m\u001b[0mop\u001b[0m\u001b[1;33m,\u001b[0m \u001b[0mx\u001b[0m\u001b[1;33m,\u001b[0m \u001b[0my\u001b[0m\u001b[1;33m)\u001b[0m\u001b[1;33m\u001b[0m\u001b[0m\n\u001b[0m\u001b[0;32m   1144\u001b[0m \u001b[1;33m\u001b[0m\u001b[0m\n\u001b[0;32m   1145\u001b[0m         \u001b[1;32melif\u001b[0m \u001b[0mis_datetimelike_v_numeric\u001b[0m\u001b[1;33m(\u001b[0m\u001b[0mx\u001b[0m\u001b[1;33m,\u001b[0m \u001b[0my\u001b[0m\u001b[1;33m)\u001b[0m\u001b[1;33m:\u001b[0m\u001b[1;33m\u001b[0m\u001b[0m\n",
      "\u001b[1;32m~\\Anaconda3\\lib\\site-packages\\pandas\\core\\ops.py\u001b[0m in \u001b[0;36m_comp_method_OBJECT_ARRAY\u001b[1;34m(op, x, y)\u001b[0m\n\u001b[0;32m   1120\u001b[0m         \u001b[0mresult\u001b[0m \u001b[1;33m=\u001b[0m \u001b[0mlibops\u001b[0m\u001b[1;33m.\u001b[0m\u001b[0mvec_compare\u001b[0m\u001b[1;33m(\u001b[0m\u001b[0mx\u001b[0m\u001b[1;33m,\u001b[0m \u001b[0my\u001b[0m\u001b[1;33m,\u001b[0m \u001b[0mop\u001b[0m\u001b[1;33m)\u001b[0m\u001b[1;33m\u001b[0m\u001b[0m\n\u001b[0;32m   1121\u001b[0m     \u001b[1;32melse\u001b[0m\u001b[1;33m:\u001b[0m\u001b[1;33m\u001b[0m\u001b[0m\n\u001b[1;32m-> 1122\u001b[1;33m         \u001b[0mresult\u001b[0m \u001b[1;33m=\u001b[0m \u001b[0mlibops\u001b[0m\u001b[1;33m.\u001b[0m\u001b[0mscalar_compare\u001b[0m\u001b[1;33m(\u001b[0m\u001b[0mx\u001b[0m\u001b[1;33m,\u001b[0m \u001b[0my\u001b[0m\u001b[1;33m,\u001b[0m \u001b[0mop\u001b[0m\u001b[1;33m)\u001b[0m\u001b[1;33m\u001b[0m\u001b[0m\n\u001b[0m\u001b[0;32m   1123\u001b[0m     \u001b[1;32mreturn\u001b[0m \u001b[0mresult\u001b[0m\u001b[1;33m\u001b[0m\u001b[0m\n\u001b[0;32m   1124\u001b[0m \u001b[1;33m\u001b[0m\u001b[0m\n",
      "\u001b[1;32mpandas/_libs/ops.pyx\u001b[0m in \u001b[0;36mpandas._libs.ops.scalar_compare\u001b[1;34m()\u001b[0m\n",
      "\u001b[1;31mTypeError\u001b[0m: '<=' not supported between instances of 'numpy.ndarray' and 'str'"
     ]
    }
   ],
   "source": [
    "avg= Y1_tr.mean()\n",
    "Avg=avg.astype(str)\n",
    "print (type(Avg))\n",
    "\n",
    "for idx,row in Y1.iterrows():\n",
    "    \n",
    "    if (row.deal_probability <=Avg):\n",
    "        #Y1.set_value(idx, 'class', 0)\n",
    "        Y1['class']=0\n",
    "    else:\n",
    "        Y1.set_value(idx, 'class', 1)\n",
    "        "
   ]
  },
  {
   "cell_type": "code",
   "execution_count": 34,
   "metadata": {},
   "outputs": [],
   "source": [
    "y1=Y1['class']   #target for logregCV\n"
   ]
  },
  {
   "cell_type": "code",
   "execution_count": 38,
   "metadata": {},
   "outputs": [
    {
     "name": "stdout",
     "output_type": "stream",
     "text": [
      " The test mse is: 0.056\n",
      "The test accuracy with L1 penalized logistic regression is: 0.944\n"
     ]
    }
   ],
   "source": [
    "#l1 penalized logreg\n",
    "from sklearn.linear_model import LogisticRegressionCV\n",
    "from sklearn.metrics import mean_squared_error\n",
    "from sklearn.preprocessing import StandardScaler\n",
    "\n",
    "X1 = StandardScaler().fit_transform(X)\n",
    "l1_lr= LogisticRegressionCV(Cs=10, penalty='l1', solver='liblinear')\n",
    "l1_lr.fit(X1,y1)\n",
    "y_l1=l1_lr.predict(x)\n",
    "mse_l1= mean_squared_error(y1, y_l1)\n",
    "print (\"The test mse is:\", mse_l1)\n",
    "print (\"The test accuracy with L1 penalized logistic regression is:\", (1-mse_l1))"
   ]
  },
  {
   "cell_type": "code",
   "execution_count": 39,
   "metadata": {},
   "outputs": [
    {
     "name": "stderr",
     "output_type": "stream",
     "text": [
      "C:\\Users\\Kathakali\\Anaconda3\\lib\\site-packages\\sklearn\\linear_model\\sag.py:326: ConvergenceWarning: The max_iter was reached which means the coef_ did not converge\n",
      "  \"the coef_ did not converge\", ConvergenceWarning)\n"
     ]
    },
    {
     "name": "stdout",
     "output_type": "stream",
     "text": [
      " The test mse is: 0.335125\n",
      "The test accuracy with L1 penalized logistic regression is: 0.664875\n"
     ]
    }
   ],
   "source": [
    "l2_lr= LogisticRegressionCV(Cs=10, penalty='l2', solver='sag')\n",
    "\n",
    "X2 = StandardScaler().fit_transform(X)\n",
    "l2_lr.fit(X2,y1)\n",
    "y_l2=l2_lr.predict(x)\n",
    "mse_l2= mean_squared_error(y1, y_l2)\n",
    "print (\" The test mse is:\", mse_l2)\n",
    "print (\"The test accuracy with L1 penalized logistic regression is:\", (1-mse_l2))"
   ]
  },
  {
   "cell_type": "markdown",
   "metadata": {},
   "source": [
    "# multiclass using NB multinomial"
   ]
  },
  {
   "cell_type": "code",
   "execution_count": 40,
   "metadata": {},
   "outputs": [
    {
     "name": "stderr",
     "output_type": "stream",
     "text": [
      "C:\\Users\\Kathakali\\Anaconda3\\lib\\site-packages\\ipykernel_launcher.py:1: FutureWarning: convert_objects is deprecated.  To re-infer data dtypes for object columns, use Series.infer_objects()\n",
      "For all other conversions use the data-type specific converters pd.to_datetime, pd.to_timedelta and pd.to_numeric.\n",
      "  \"\"\"Entry point for launching an IPython kernel.\n",
      "C:\\Users\\Kathakali\\Anaconda3\\lib\\site-packages\\ipykernel_launcher.py:18: FutureWarning: set_value is deprecated and will be removed in a future release. Please use .at[] or .iat[] accessors instead\n",
      "C:\\Users\\Kathakali\\Anaconda3\\lib\\site-packages\\ipykernel_launcher.py:16: FutureWarning: set_value is deprecated and will be removed in a future release. Please use .at[] or .iat[] accessors instead\n",
      "  app.launch_new_instance()\n",
      "C:\\Users\\Kathakali\\Anaconda3\\lib\\site-packages\\ipykernel_launcher.py:22: FutureWarning: set_value is deprecated and will be removed in a future release. Please use .at[] or .iat[] accessors instead\n",
      "C:\\Users\\Kathakali\\Anaconda3\\lib\\site-packages\\ipykernel_launcher.py:20: FutureWarning: set_value is deprecated and will be removed in a future release. Please use .at[] or .iat[] accessors instead\n"
     ]
    }
   ],
   "source": [
    "Y1_tr= Y_train.convert_objects(convert_numeric=True)\n",
    "Y1=pd.DataFrame(Y1_tr)\n",
    "avg= Y1_tr.mean()\n",
    "\n",
    "avg1=((avg-Y1_tr.min())/2).astype(float)\n",
    "\n",
    "avg2=((Y1_tr.max()-avg)/2).astype(float)\n",
    "\n",
    "#clsas1 = 0 to avg1\n",
    "#class 2 =avg1 to avg\n",
    "#class3 =avg to avg2\n",
    "#class4 =avg2 to 1\n",
    "for idx,row in Y1.iterrows():\n",
    "    val=row['deal_probability']\n",
    "    if (0<=val <=avg1):\n",
    "        Y1.set_value(idx, 'class', 1)\n",
    "    elif (avg1<val <=avg):\n",
    "        Y1.set_value(idx, 'class', 2)\n",
    "    elif(avg <val <=avg2):\n",
    "        Y1.set_value(idx, 'class', 3)\n",
    "    elif(avg2<val <=1):\n",
    "        Y1.set_value(idx, 'class', 4)"
   ]
  },
  {
   "cell_type": "code",
   "execution_count": 41,
   "metadata": {},
   "outputs": [],
   "source": [
    "y1_gb=Y1['class']"
   ]
  },
  {
   "cell_type": "code",
   "execution_count": 185,
   "metadata": {},
   "outputs": [
    {
     "data": {
      "text/plain": [
       "MultinomialNB(alpha=1.0, class_prior=None, fit_prior=True)"
      ]
     },
     "execution_count": 185,
     "metadata": {},
     "output_type": "execute_result"
    }
   ],
   "source": [
    "from sklearn.naive_bayes import MultinomialNB\n",
    "clf = MultinomialNB()\n",
    "clf.fit(X, y1_gb)"
   ]
  },
  {
   "cell_type": "code",
   "execution_count": 186,
   "metadata": {},
   "outputs": [],
   "source": [
    "y_mb=clf.predict(x)"
   ]
  },
  {
   "cell_type": "code",
   "execution_count": 187,
   "metadata": {},
   "outputs": [
    {
     "name": "stdout",
     "output_type": "stream",
     "text": [
      " The test mse is: 5.770166666666666\n"
     ]
    }
   ],
   "source": [
    "mse_mb= mean_squared_error(y1_gb, y_mb)\n",
    "print (\" The test mse is:\", mse_mb)"
   ]
  },
  {
   "cell_type": "code",
   "execution_count": null,
   "metadata": {},
   "outputs": [],
   "source": []
  }
 ],
 "metadata": {
  "kernelspec": {
   "display_name": "Python 3",
   "language": "python",
   "name": "python3"
  },
  "language_info": {
   "codemirror_mode": {
    "name": "ipython",
    "version": 3
   },
   "file_extension": ".py",
   "mimetype": "text/x-python",
   "name": "python",
   "nbconvert_exporter": "python",
   "pygments_lexer": "ipython3",
   "version": "3.6.4"
  }
 },
 "nbformat": 4,
 "nbformat_minor": 2
}
